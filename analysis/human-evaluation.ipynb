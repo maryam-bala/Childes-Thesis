{
 "cells": [
  {
   "cell_type": "markdown",
   "metadata": {},
   "source": [
    "# Human Evaluation of Model Generated Responses"
   ]
  },
  {
   "cell_type": "markdown",
   "metadata": {},
   "source": [
    "## Import Libraries"
   ]
  },
  {
   "cell_type": "code",
   "execution_count": 1,
   "metadata": {},
   "outputs": [],
   "source": [
    "#Import libraries\n",
    "import pandas as pd\n",
    "import seaborn as sns\n",
    "import matplotlib.pyplot as plt\n",
    "import plotly.express as px\n",
    "import numpy as np\n",
    "import scipy.stats as stats\n",
    "import plotly.graph_objects as go\n",
    "\n",
    "from statsmodels.stats.inter_rater import fleiss_kappa, aggregate_raters"
   ]
  },
  {
   "cell_type": "markdown",
   "metadata": {},
   "source": [
    "## Import CSV Files "
   ]
  },
  {
   "cell_type": "code",
   "execution_count": 2,
   "metadata": {},
   "outputs": [],
   "source": [
    "# Import CSV files of results \n",
    "#df = pd.read_csv(\"form-1.csv\", encoding=\"ISO-8859-1\")\n",
    "#df = pd.read_csv(\"form-2.csv\", encoding=\"ISO-8859-1\")\n",
    "#df = pd.read_csv(\"form-3.csv\", encoding=\"ISO-8859-1\")\n",
    "#df = pd.read_csv(\"form-4.csv\", encoding=\"ISO-8859-1\")\n",
    "#df = pd.read_csv(\"form-5.csv\", encoding=\"ISO-8859-1\")\n",
    "#df = pd.read_csv(\"form-6.csv\", encoding=\"ISO-8859-1\")\n",
    "df = pd.read_csv(\"form-7.csv\", encoding=\"ISO-8859-1\")"
   ]
  },
  {
   "cell_type": "markdown",
   "metadata": {},
   "source": [
    "## Data Cleaning "
   ]
  },
  {
   "cell_type": "code",
   "execution_count": 3,
   "metadata": {},
   "outputs": [
    {
     "data": {
      "text/html": [
       "<div>\n",
       "<style scoped>\n",
       "    .dataframe tbody tr th:only-of-type {\n",
       "        vertical-align: middle;\n",
       "    }\n",
       "\n",
       "    .dataframe tbody tr th {\n",
       "        vertical-align: top;\n",
       "    }\n",
       "\n",
       "    .dataframe thead th {\n",
       "        text-align: right;\n",
       "    }\n",
       "</style>\n",
       "<table border=\"1\" class=\"dataframe\">\n",
       "  <thead>\n",
       "    <tr style=\"text-align: right;\">\n",
       "      <th></th>\n",
       "      <th>How old are you?</th>\n",
       "      <th>What is your gender</th>\n",
       "      <th>Rate Model 1 Response for Corrective Feedback 1.The response is grammatically correct</th>\n",
       "      <th>Rate Model 1 Response for Corrective Feedback 1.The response make sense given the context</th>\n",
       "      <th>Rate Model 1 Response for Corrective Feedback 1.The response addresses the grammatical error made by the child</th>\n",
       "      <th>Rate Model 1 Response for Corrective Feedback 1.The response is appropriate for a child</th>\n",
       "      <th>Rate Model 2 Response for Corrective Feedback 1.The response is grammatically correct</th>\n",
       "      <th>Rate Model 2 Response for Corrective Feedback 1.The response makes sense given the context</th>\n",
       "      <th>Rate Model 2 Response for Corrective Feedback 1.The response addresses the grammatical error made by the child</th>\n",
       "      <th>Rate Model 2 Response for Corrective Feedback 1.The response is appropriate for a child</th>\n",
       "      <th>...</th>\n",
       "      <th>Rate Model 1 Response for Confirmatory Feedback 2.Does the response provide confirmation for the child's statement ?</th>\n",
       "      <th>Rate Model 1 Response for Confirmatory Feedback 2.Is the response  appropriate for a child ?</th>\n",
       "      <th>Rate Model 2 Response for Confirmatory Feedback 2.Is the response grammatically correct ?</th>\n",
       "      <th>Rate Model 2 Response for Confirmatory Feedback 2.Does the response make sense given the context ?</th>\n",
       "      <th>Rate Model 2 Response for Confirmatory Feedback 2.Does the response provide confirmation for the child's statement ?</th>\n",
       "      <th>Rate Model 2 Response for Confirmatory Feedback 2.Is the response  appropriate for a child ?</th>\n",
       "      <th>Rate Model 3 Response for Confirmatory Feedback 2.Is the response grammatically correct ?</th>\n",
       "      <th>Rate Model 3 Response for Confirmatory Feedback 2.Does the response make sense given the context ?</th>\n",
       "      <th>Rate Model 3 Response for Confirmatory Feedback 2.Does the response provide confirmation for the child's statement ?</th>\n",
       "      <th>Rate Model 3 Response for Confirmatory Feedback 2.Is the response  appropriate for a child ?</th>\n",
       "    </tr>\n",
       "  </thead>\n",
       "  <tbody>\n",
       "    <tr>\n",
       "      <th>0</th>\n",
       "      <td>26 - 35</td>\n",
       "      <td>Male</td>\n",
       "      <td>Neutral</td>\n",
       "      <td>Agree</td>\n",
       "      <td>Neutral</td>\n",
       "      <td>Agree</td>\n",
       "      <td>Agree</td>\n",
       "      <td>Agree</td>\n",
       "      <td>Disagree</td>\n",
       "      <td>Agree</td>\n",
       "      <td>...</td>\n",
       "      <td>Strongly Disagree</td>\n",
       "      <td>Disagree</td>\n",
       "      <td>Agree</td>\n",
       "      <td>Neutral</td>\n",
       "      <td>Neutral</td>\n",
       "      <td>Agree</td>\n",
       "      <td>Strongly Disagree</td>\n",
       "      <td>Strongly Disagree</td>\n",
       "      <td>Strongly Disagree</td>\n",
       "      <td>Agree</td>\n",
       "    </tr>\n",
       "    <tr>\n",
       "      <th>1</th>\n",
       "      <td>26 - 35</td>\n",
       "      <td>Female</td>\n",
       "      <td>Strongly Disagree</td>\n",
       "      <td>Agree</td>\n",
       "      <td>Neutral</td>\n",
       "      <td>Neutral</td>\n",
       "      <td>Strongly Agree</td>\n",
       "      <td>Strongly Agree</td>\n",
       "      <td>Disagree</td>\n",
       "      <td>Strongly Agree</td>\n",
       "      <td>...</td>\n",
       "      <td>Disagree</td>\n",
       "      <td>Neutral</td>\n",
       "      <td>Strongly Agree</td>\n",
       "      <td>Disagree</td>\n",
       "      <td>Disagree</td>\n",
       "      <td>Neutral</td>\n",
       "      <td>Neutral</td>\n",
       "      <td>Neutral</td>\n",
       "      <td>Disagree</td>\n",
       "      <td>Neutral</td>\n",
       "    </tr>\n",
       "    <tr>\n",
       "      <th>2</th>\n",
       "      <td>26 - 35</td>\n",
       "      <td>Male</td>\n",
       "      <td>Agree</td>\n",
       "      <td>Strongly Disagree</td>\n",
       "      <td>Disagree</td>\n",
       "      <td>Strongly Disagree</td>\n",
       "      <td>Disagree</td>\n",
       "      <td>Agree</td>\n",
       "      <td>Disagree</td>\n",
       "      <td>Disagree</td>\n",
       "      <td>...</td>\n",
       "      <td>Agree</td>\n",
       "      <td>Neutral</td>\n",
       "      <td>Agree</td>\n",
       "      <td>Strongly Disagree</td>\n",
       "      <td>Strongly Disagree</td>\n",
       "      <td>Strongly Disagree</td>\n",
       "      <td>Disagree</td>\n",
       "      <td>Disagree</td>\n",
       "      <td>Disagree</td>\n",
       "      <td>Disagree</td>\n",
       "    </tr>\n",
       "    <tr>\n",
       "      <th>3</th>\n",
       "      <td>26 - 35</td>\n",
       "      <td>Male</td>\n",
       "      <td>Agree</td>\n",
       "      <td>Disagree</td>\n",
       "      <td>Disagree</td>\n",
       "      <td>Neutral</td>\n",
       "      <td>Strongly Agree</td>\n",
       "      <td>Neutral</td>\n",
       "      <td>Neutral</td>\n",
       "      <td>Agree</td>\n",
       "      <td>...</td>\n",
       "      <td>Disagree</td>\n",
       "      <td>Disagree</td>\n",
       "      <td>Strongly Agree</td>\n",
       "      <td>Strongly Disagree</td>\n",
       "      <td>Strongly Disagree</td>\n",
       "      <td>Neutral</td>\n",
       "      <td>Agree</td>\n",
       "      <td>Agree</td>\n",
       "      <td>Agree</td>\n",
       "      <td>Agree</td>\n",
       "    </tr>\n",
       "    <tr>\n",
       "      <th>4</th>\n",
       "      <td>26 - 35</td>\n",
       "      <td>Male</td>\n",
       "      <td>Disagree</td>\n",
       "      <td>Strongly Disagree</td>\n",
       "      <td>Strongly Disagree</td>\n",
       "      <td>Agree</td>\n",
       "      <td>Agree</td>\n",
       "      <td>Disagree</td>\n",
       "      <td>Disagree</td>\n",
       "      <td>Strongly Agree</td>\n",
       "      <td>...</td>\n",
       "      <td>Strongly Disagree</td>\n",
       "      <td>Agree</td>\n",
       "      <td>Strongly Disagree</td>\n",
       "      <td>Strongly Disagree</td>\n",
       "      <td>Strongly Disagree</td>\n",
       "      <td>Agree</td>\n",
       "      <td>Strongly Disagree</td>\n",
       "      <td>Strongly Disagree</td>\n",
       "      <td>Strongly Disagree</td>\n",
       "      <td>Agree</td>\n",
       "    </tr>\n",
       "    <tr>\n",
       "      <th>5</th>\n",
       "      <td>36 - 45</td>\n",
       "      <td>Female</td>\n",
       "      <td>Disagree</td>\n",
       "      <td>Strongly Agree</td>\n",
       "      <td>Disagree</td>\n",
       "      <td>Strongly Agree</td>\n",
       "      <td>Strongly Agree</td>\n",
       "      <td>Agree</td>\n",
       "      <td>Strongly Disagree</td>\n",
       "      <td>Strongly Agree</td>\n",
       "      <td>...</td>\n",
       "      <td>Neutral</td>\n",
       "      <td>Agree</td>\n",
       "      <td>Strongly Agree</td>\n",
       "      <td>Agree</td>\n",
       "      <td>Strongly Disagree</td>\n",
       "      <td>Strongly Agree</td>\n",
       "      <td>Strongly Agree</td>\n",
       "      <td>Agree</td>\n",
       "      <td>Disagree</td>\n",
       "      <td>Agree</td>\n",
       "    </tr>\n",
       "    <tr>\n",
       "      <th>6</th>\n",
       "      <td>26 - 35</td>\n",
       "      <td>Female</td>\n",
       "      <td>Agree</td>\n",
       "      <td>Strongly Agree</td>\n",
       "      <td>Disagree</td>\n",
       "      <td>Agree</td>\n",
       "      <td>Agree</td>\n",
       "      <td>Disagree</td>\n",
       "      <td>Disagree</td>\n",
       "      <td>Agree</td>\n",
       "      <td>...</td>\n",
       "      <td>Disagree</td>\n",
       "      <td>Neutral</td>\n",
       "      <td>Agree</td>\n",
       "      <td>Disagree</td>\n",
       "      <td>Disagree</td>\n",
       "      <td>Neutral</td>\n",
       "      <td>Disagree</td>\n",
       "      <td>Neutral</td>\n",
       "      <td>Neutral</td>\n",
       "      <td>Neutral</td>\n",
       "    </tr>\n",
       "  </tbody>\n",
       "</table>\n",
       "<p>7 rows × 50 columns</p>\n",
       "</div>"
      ],
      "text/plain": [
       "  How old are you? What is your gender   \n",
       "0         26 - 35                 Male  \\\n",
       "1         26 - 35               Female   \n",
       "2         26 - 35                 Male   \n",
       "3         26 - 35                 Male   \n",
       "4         26 - 35                 Male   \n",
       "5          36 - 45              Female   \n",
       "6         26 - 35               Female   \n",
       "\n",
       "  Rate Model 1 Response for Corrective Feedback 1.The response is grammatically correct    \n",
       "0                                            Neutral                                      \\\n",
       "1                                  Strongly Disagree                                       \n",
       "2                                              Agree                                       \n",
       "3                                              Agree                                       \n",
       "4                                           Disagree                                       \n",
       "5                                           Disagree                                       \n",
       "6                                              Agree                                       \n",
       "\n",
       "  Rate Model 1 Response for Corrective Feedback 1.The response make sense given the context   \n",
       "0                                              Agree                                         \\\n",
       "1                                              Agree                                          \n",
       "2                                  Strongly Disagree                                          \n",
       "3                                           Disagree                                          \n",
       "4                                  Strongly Disagree                                          \n",
       "5                                     Strongly Agree                                          \n",
       "6                                     Strongly Agree                                          \n",
       "\n",
       "  Rate Model 1 Response for Corrective Feedback 1.The response addresses the grammatical error made by the child   \n",
       "0                                            Neutral                                                              \\\n",
       "1                                            Neutral                                                               \n",
       "2                                           Disagree                                                               \n",
       "3                                           Disagree                                                               \n",
       "4                                  Strongly Disagree                                                               \n",
       "5                                           Disagree                                                               \n",
       "6                                           Disagree                                                               \n",
       "\n",
       "  Rate Model 1 Response for Corrective Feedback 1.The response is appropriate for a child   \n",
       "0                                              Agree                                       \\\n",
       "1                                            Neutral                                        \n",
       "2                                  Strongly Disagree                                        \n",
       "3                                            Neutral                                        \n",
       "4                                              Agree                                        \n",
       "5                                     Strongly Agree                                        \n",
       "6                                              Agree                                        \n",
       "\n",
       "  Rate Model 2 Response for Corrective Feedback 1.The response is grammatically correct   \n",
       "0                                              Agree                                     \\\n",
       "1                                     Strongly Agree                                      \n",
       "2                                           Disagree                                      \n",
       "3                                     Strongly Agree                                      \n",
       "4                                              Agree                                      \n",
       "5                                     Strongly Agree                                      \n",
       "6                                              Agree                                      \n",
       "\n",
       "  Rate Model 2 Response for Corrective Feedback 1.The response makes sense given the context   \n",
       "0                                              Agree                                          \\\n",
       "1                                     Strongly Agree                                           \n",
       "2                                              Agree                                           \n",
       "3                                            Neutral                                           \n",
       "4                                           Disagree                                           \n",
       "5                                              Agree                                           \n",
       "6                                           Disagree                                           \n",
       "\n",
       "  Rate Model 2 Response for Corrective Feedback 1.The response addresses the grammatical error made by the child   \n",
       "0                                           Disagree                                                              \\\n",
       "1                                           Disagree                                                               \n",
       "2                                           Disagree                                                               \n",
       "3                                            Neutral                                                               \n",
       "4                                           Disagree                                                               \n",
       "5                                  Strongly Disagree                                                               \n",
       "6                                           Disagree                                                               \n",
       "\n",
       "  Rate Model 2 Response for Corrective Feedback 1.The response is appropriate for a child   \n",
       "0                                              Agree                                       \\\n",
       "1                                     Strongly Agree                                        \n",
       "2                                           Disagree                                        \n",
       "3                                              Agree                                        \n",
       "4                                     Strongly Agree                                        \n",
       "5                                     Strongly Agree                                        \n",
       "6                                              Agree                                        \n",
       "\n",
       "   ...   \n",
       "0  ...  \\\n",
       "1  ...   \n",
       "2  ...   \n",
       "3  ...   \n",
       "4  ...   \n",
       "5  ...   \n",
       "6  ...   \n",
       "\n",
       "  Rate Model 1 Response for Confirmatory Feedback 2.Does the response provide confirmation for the child's statement ?   \n",
       "0                                  Strongly Disagree                                                                    \\\n",
       "1                                           Disagree                                                                     \n",
       "2                                              Agree                                                                     \n",
       "3                                           Disagree                                                                     \n",
       "4                                  Strongly Disagree                                                                     \n",
       "5                                            Neutral                                                                     \n",
       "6                                           Disagree                                                                     \n",
       "\n",
       "  Rate Model 1 Response for Confirmatory Feedback 2.Is the response  appropriate for a child ?   \n",
       "0                                           Disagree                                            \\\n",
       "1                                            Neutral                                             \n",
       "2                                            Neutral                                             \n",
       "3                                           Disagree                                             \n",
       "4                                              Agree                                             \n",
       "5                                              Agree                                             \n",
       "6                                            Neutral                                             \n",
       "\n",
       "  Rate Model 2 Response for Confirmatory Feedback 2.Is the response grammatically correct ?   \n",
       "0                                              Agree                                         \\\n",
       "1                                     Strongly Agree                                          \n",
       "2                                              Agree                                          \n",
       "3                                     Strongly Agree                                          \n",
       "4                                  Strongly Disagree                                          \n",
       "5                                     Strongly Agree                                          \n",
       "6                                              Agree                                          \n",
       "\n",
       "  Rate Model 2 Response for Confirmatory Feedback 2.Does the response make sense given the context ?   \n",
       "0                                            Neutral                                                  \\\n",
       "1                                           Disagree                                                   \n",
       "2                                  Strongly Disagree                                                   \n",
       "3                                  Strongly Disagree                                                   \n",
       "4                                  Strongly Disagree                                                   \n",
       "5                                              Agree                                                   \n",
       "6                                           Disagree                                                   \n",
       "\n",
       "  Rate Model 2 Response for Confirmatory Feedback 2.Does the response provide confirmation for the child's statement ?   \n",
       "0                                            Neutral                                                                    \\\n",
       "1                                           Disagree                                                                     \n",
       "2                                  Strongly Disagree                                                                     \n",
       "3                                  Strongly Disagree                                                                     \n",
       "4                                  Strongly Disagree                                                                     \n",
       "5                                  Strongly Disagree                                                                     \n",
       "6                                           Disagree                                                                     \n",
       "\n",
       "  Rate Model 2 Response for Confirmatory Feedback 2.Is the response  appropriate for a child ?   \n",
       "0                                              Agree                                            \\\n",
       "1                                            Neutral                                             \n",
       "2                                  Strongly Disagree                                             \n",
       "3                                            Neutral                                             \n",
       "4                                              Agree                                             \n",
       "5                                     Strongly Agree                                             \n",
       "6                                            Neutral                                             \n",
       "\n",
       "  Rate Model 3 Response for Confirmatory Feedback 2.Is the response grammatically correct ?   \n",
       "0                                  Strongly Disagree                                         \\\n",
       "1                                            Neutral                                          \n",
       "2                                           Disagree                                          \n",
       "3                                              Agree                                          \n",
       "4                                  Strongly Disagree                                          \n",
       "5                                     Strongly Agree                                          \n",
       "6                                           Disagree                                          \n",
       "\n",
       "  Rate Model 3 Response for Confirmatory Feedback 2.Does the response make sense given the context ?   \n",
       "0                                  Strongly Disagree                                                  \\\n",
       "1                                            Neutral                                                   \n",
       "2                                           Disagree                                                   \n",
       "3                                              Agree                                                   \n",
       "4                                  Strongly Disagree                                                   \n",
       "5                                              Agree                                                   \n",
       "6                                            Neutral                                                   \n",
       "\n",
       "  Rate Model 3 Response for Confirmatory Feedback 2.Does the response provide confirmation for the child's statement ?   \n",
       "0                                  Strongly Disagree                                                                    \\\n",
       "1                                           Disagree                                                                     \n",
       "2                                           Disagree                                                                     \n",
       "3                                              Agree                                                                     \n",
       "4                                  Strongly Disagree                                                                     \n",
       "5                                           Disagree                                                                     \n",
       "6                                            Neutral                                                                     \n",
       "\n",
       "  Rate Model 3 Response for Confirmatory Feedback 2.Is the response  appropriate for a child ?  \n",
       "0                                              Agree                                            \n",
       "1                                            Neutral                                            \n",
       "2                                           Disagree                                            \n",
       "3                                              Agree                                            \n",
       "4                                              Agree                                            \n",
       "5                                              Agree                                            \n",
       "6                                            Neutral                                            \n",
       "\n",
       "[7 rows x 50 columns]"
      ]
     },
     "execution_count": 3,
     "metadata": {},
     "output_type": "execute_result"
    }
   ],
   "source": [
    "# Drop columns that are not needed \n",
    "df = df.drop(['Start time', 'Completion time', 'Email', 'Name', 'Id', 'I confirm that I have read and understood the above statements'], axis=1)\n",
    "df"
   ]
  },
  {
   "cell_type": "markdown",
   "metadata": {},
   "source": [
    "## Change Ratings to Numbers "
   ]
  },
  {
   "cell_type": "code",
   "execution_count": 4,
   "metadata": {},
   "outputs": [],
   "source": [
    "# Change ratings to numbers \n",
    "rating_dict = {\"Strongly Disagree\": 1, \"Disagree\": 2, \"Neutral\": 3, \"Agree\": 4, \"Strongly Agree\":5}\n",
    "def rating2num(rating):\n",
    "    return rating_dict[rating]\n",
    "\n",
    "# Convert the column labels of the DataFrame into a list \n",
    "rating_list = list(df.keys())[2:]\n",
    "rating_list\n",
    "\n",
    "# Apply the rating2num function to every element\n",
    "for item in rating_list:\n",
    "    df[item] = df[item].apply(rating2num)"
   ]
  },
  {
   "cell_type": "markdown",
   "metadata": {},
   "source": [
    "## Average Performance for Corrective Feedback"
   ]
  },
  {
   "cell_type": "markdown",
   "metadata": {},
   "source": [
    "### Model 1 Performance - Corrective Feedback"
   ]
  },
  {
   "cell_type": "code",
   "execution_count": 5,
   "metadata": {},
   "outputs": [],
   "source": [
    "# Model 1 Performance in Fluency\n",
    "fluency_model1_keys_cf = [item for item in rating_list if \"Model 1\" in item and \"grammatically\" in item and \"Corrective\" in item ]\n",
    "df['avg_model1_fluency_cf'] = (df[fluency_model1_keys_cf[0]]+df[fluency_model1_keys_cf[1]])/2\n",
    "\n",
    "# Model 1 Performance in Coherence\n",
    "coherence_model1_keys_cf = [item for item in rating_list if \"Model 1\" in item and \"context\" in item and \"Corrective\" in item ]\n",
    "df['avg_model1_coherence_cf'] = (df[coherence_model1_keys_cf[0]]+df[coherence_model1_keys_cf[1]])/2\n",
    "\n",
    "# Model 1 Performance in Correctness\n",
    "correctness_model1_keys_cf = [item for item in rating_list if \"Model 1\" in item and \"grammatical error\" in item and \"Corrective\" in item ]\n",
    "df['avg_model1_correctness_cf'] = (df[correctness_model1_keys_cf[0]]+df[correctness_model1_keys_cf[1]])/2\n",
    "\n",
    "# Model 1 Performance in Appropriateness\n",
    "appropriateness_model1_keys_cf = [item for item in rating_list if \"Model 1\" in item and \"appropriate\" in item and \"Corrective\" in item ]\n",
    "df['avg_model1_appropriateness_cf'] = (df[appropriateness_model1_keys_cf[0]]+df[appropriateness_model1_keys_cf[1]])/2"
   ]
  },
  {
   "cell_type": "markdown",
   "metadata": {},
   "source": [
    "### Model 2 Performance - Corrective Feedback"
   ]
  },
  {
   "cell_type": "code",
   "execution_count": 6,
   "metadata": {},
   "outputs": [],
   "source": [
    "# Model 2 Performance in Fluency\n",
    "fluency_model2_keys_cf = [item for item in rating_list if \"Model 2\" in item and \"grammatically\" in item and \"Corrective\" in item ]\n",
    "df['avg_model2_fluency_cf'] = (df[fluency_model2_keys_cf[0]]+df[fluency_model2_keys_cf[1]])/2\n",
    "\n",
    "# Model 2 Performance in Coherence\n",
    "coherence_model2_keys_cf = [item for item in rating_list if \"Model 2\" in item and \"context\" in item and \"Corrective\" in item ]\n",
    "df['avg_model2_coherence_cf'] = (df[coherence_model2_keys_cf[0]]+df[coherence_model2_keys_cf[1]])/2\n",
    "\n",
    "# Model 2 Performance in Correctness\n",
    "correctness_model2_keys_cf = [item for item in rating_list if \"Model 2\" in item and \"grammatical error\" in item and \"Corrective\" in item ]\n",
    "df['avg_model2_correctness_cf'] = (df[correctness_model2_keys_cf[0]]+df[correctness_model2_keys_cf[1]])/2\n",
    "\n",
    "# Model 2 Performance in Appropriateness\n",
    "appropriateness_model2_keys_cf = [item for item in rating_list if \"Model 2\" in item and \"appropriate\" in item and \"Corrective\" in item ]\n",
    "df['avg_model2_appropriateness_cf'] = (df[appropriateness_model2_keys_cf[0]]+df[appropriateness_model2_keys_cf[1]])/2\n"
   ]
  },
  {
   "cell_type": "markdown",
   "metadata": {},
   "source": [
    "### Model 3 Performance - Corrective Feedback"
   ]
  },
  {
   "cell_type": "code",
   "execution_count": 7,
   "metadata": {},
   "outputs": [],
   "source": [
    "# Model 3 Performance in Fluency\n",
    "fluency_model3_keys_cf = [item for item in rating_list if \"Model 3\" in item and \"grammatically\" in item and \"Corrective\" in item ]\n",
    "df['avg_model3_fluency_cf'] = (df[fluency_model3_keys_cf[0]]+df[fluency_model3_keys_cf[1]])/2\n",
    "\n",
    "# Model 3 Performance in Coherence\n",
    "coherence_model3_keys_cf = [item for item in rating_list if \"Model 3\" in item and \"context\" in item and \"Corrective\" in item ]\n",
    "df['avg_model3_coherence_cf'] = (df[coherence_model3_keys_cf[0]]+df[coherence_model3_keys_cf[1]])/2\n",
    "\n",
    "# Model 3 Performance in Correctness\n",
    "correctness_model3_keys_cf = [item for item in rating_list if \"Model 3\" in item and \"grammatical error\" in item and \"Corrective\" in item ]\n",
    "df['avg_model3_correctness_cf'] = (df[correctness_model3_keys_cf[0]]+df[correctness_model3_keys_cf[1]])/2\n",
    "\n",
    "# Model 3 Performance in Appropriateness\n",
    "appropriateness_model3_keys_cf = [item for item in rating_list if \"Model 3\" in item and \"appropriate\" in item and \"Corrective\" in item ]\n",
    "df['avg_model3_appropriateness_cf'] = (df[appropriateness_model3_keys_cf[0]]+df[appropriateness_model3_keys_cf[1]])/2\n",
    "#df.to_csv(\"context-1.csv\")"
   ]
  },
  {
   "cell_type": "markdown",
   "metadata": {},
   "source": [
    "## Average Performance for Confirmatory Feedback"
   ]
  },
  {
   "cell_type": "markdown",
   "metadata": {},
   "source": [
    "### Model 1 Performance - Confirmatory Feedback"
   ]
  },
  {
   "cell_type": "code",
   "execution_count": 8,
   "metadata": {},
   "outputs": [],
   "source": [
    "# Model 1 Performance in Fluency\n",
    "fluency_model1_keys_f = [item for item in rating_list if \"Model 1\" in item and \"grammatically\" in item and \"Confirmatory\" in item ]\n",
    "df['avg_model1_fluency_f'] = (df[fluency_model1_keys_f[0]]+df[fluency_model1_keys_f[1]])/2\n",
    "\n",
    "# Model 1 Performance in Coherence\n",
    "coherence_model1_keys_f = [item for item in rating_list if \"Model 1\" in item and \"context\" in item and \"Confirmatory\" in item ]\n",
    "df['avg_model1_coherence_f'] = (df[coherence_model1_keys_f[0]]+df[coherence_model1_keys_f[1]])/2\n",
    "\n",
    "# Model 1 Performance in Correctness\n",
    "correctness_model1_keys_f = [item for item in rating_list if \"Model 1\" in item and \"confirmation\" in item and \"Confirmatory\" in item ]\n",
    "df['avg_model1_correctness_f'] = (df[correctness_model1_keys_f[0]]+df[correctness_model1_keys_f[1]])/2\n",
    "\n",
    "# Model 1 Performance in Appropriateness\n",
    "appropriateness_model1_keys_f = [item for item in rating_list if \"Model 1\" in item and \"appropriate\" in item and \"Confirmatory\" in item ]\n",
    "df['avg_model1_appropriateness_f'] = (df[appropriateness_model1_keys_f[0]]+df[appropriateness_model1_keys_f[1]])/2"
   ]
  },
  {
   "cell_type": "markdown",
   "metadata": {},
   "source": [
    "### Model 2 Performance - Confirmatory Feedback"
   ]
  },
  {
   "cell_type": "code",
   "execution_count": 9,
   "metadata": {},
   "outputs": [],
   "source": [
    "# Model 2 Performance in Fluency\n",
    "fluency_model2_keys_f = [item for item in rating_list if \"Model 2\" in item and \"grammatically\" in item and \"Confirmatory\" in item ]\n",
    "df['avg_model2_fluency_f'] = (df[fluency_model2_keys_f[0]]+df[fluency_model2_keys_f[1]])/2\n",
    "\n",
    "# Model 2 Performance in Coherence\n",
    "coherence_model2_keys_f = [item for item in rating_list if \"Model 2\" in item and \"context\" in item and \"Confirmatory\" in item ]\n",
    "df['avg_model2_coherence_f'] = (df[coherence_model2_keys_f[0]]+df[coherence_model2_keys_f[1]])/2\n",
    "\n",
    "# Model 2 Performance in Correctness\n",
    "correctness_model2_keys_f = [item for item in rating_list if \"Model 2\" in item and \"confirmation\" in item and \"Confirmatory\" in item ]\n",
    "df['avg_model2_correctness_f'] = (df[correctness_model2_keys_f[0]]+df[correctness_model2_keys_f[1]])/2\n",
    "\n",
    "# Model 2 Performance in Appropriateness\n",
    "appropriateness_model2_keys_f = [item for item in rating_list if \"Model 2\" in item and \"appropriate\" in item and \"Confirmatory\" in item ]\n",
    "df['avg_model2_appropriateness_f'] = (df[appropriateness_model2_keys_f[0]]+df[appropriateness_model2_keys_f[1]])/2"
   ]
  },
  {
   "cell_type": "code",
   "execution_count": 10,
   "metadata": {},
   "outputs": [
    {
     "name": "stdout",
     "output_type": "stream",
     "text": [
      "Rating list: ['Rate Model 1 Response for\\xa0Corrective Feedback 1.The response is grammatically correct\\xa0', 'Rate Model 1 Response for\\xa0Corrective Feedback 1.The response make sense given the context', 'Rate Model 1 Response for\\xa0Corrective Feedback 1.The response addresses the grammatical error made by the child', 'Rate Model 1 Response for\\xa0Corrective Feedback 1.The response is appropriate for a child', 'Rate Model 2 Response\\xa0for\\xa0Corrective Feedback 1.The response is grammatically correct', 'Rate Model 2 Response\\xa0for\\xa0Corrective Feedback 1.The response makes sense given the context', 'Rate Model 2 Response\\xa0for\\xa0Corrective Feedback 1.The response addresses the grammatical error made by the child', 'Rate Model 2 Response\\xa0for\\xa0Corrective Feedback 1.The response is appropriate for a child', 'Rate Model 3 Response\\xa0for\\xa0Corrective Feedback 1.The response is grammatically correct', 'Rate Model 3 Response\\xa0for\\xa0Corrective Feedback 1.The response makes sense given the context', 'Rate Model 3 Response\\xa0for\\xa0Corrective Feedback 1.The response addresses the grammatical error made by the child', 'Rate Model 3 Response\\xa0for\\xa0Corrective Feedback 1.The response is appropriate for a child', 'Rate Model 1 Response\\xa0for\\xa0Corrective Feedback 2.The response is grammatically correct', 'Rate Model 1 Response\\xa0for\\xa0Corrective Feedback 2.The response makes sense given the context', 'Rate Model 1 Response\\xa0for\\xa0Corrective Feedback 2.The response addresses the grammatical error made by the child', 'Rate Model 1 Response\\xa0for\\xa0Corrective Feedback 2.The response is appropriate for a child', 'Rate Model 2 Response\\xa0for\\xa0Corrective Feedback 2.The response is grammatically correct', 'Rate Model 2 Response\\xa0for\\xa0Corrective Feedback 2.The response makes sense given the context', 'Rate Model 2 Response\\xa0for\\xa0Corrective Feedback 2.The response addresses the grammatical error made by the child', 'Rate Model 2 Response\\xa0for\\xa0Corrective Feedback 2.The response is appropriate for a child', 'Rate Model 3 Response\\xa0for\\xa0Corrective Feedback 2.The response is grammatically correct', 'Rate Model 3 Response\\xa0for\\xa0Corrective Feedback 2.The response makes sense given the context', 'Rate Model 3 Response\\xa0for\\xa0Corrective Feedback 2.The response addresses the grammatical error made by the child', 'Rate Model 3 Response\\xa0for\\xa0Corrective Feedback 2.The response is appropriate for a child', 'Rate Model 1 Response for\\xa0Confirmatory Feedback 1.Is the response grammatically correct ?', 'Rate Model 1 Response for\\xa0Confirmatory Feedback 1.Does the response make sense given the context ?', \"Rate Model 1 Response for\\xa0Confirmatory Feedback 1.Does the response provide confirmation for the child's statement ?\", 'Rate Model 1 Response for\\xa0Confirmatory Feedback 1.Is the response\\xa0 appropriate for a child ?', 'Rate Model 2 Response for\\xa0Confirmatory Feedback 1.Is the response grammatically correct ?', 'Rate Model 2 Response for\\xa0Confirmatory Feedback 1.Does the response make sense given the context ?', \"Rate Model 2 Response for\\xa0Confirmatory Feedback 1.Does the response provide confirmation for the child's statement ?\", 'Rate Model 2 Response for\\xa0Confirmatory Feedback 1.Is the response\\xa0 appropriate for a child ?', 'Rate Model 3 Response for\\xa0Confirmatory Feedback 1.Is the response grammatically correct ?', 'Rate Model 3 Response for\\xa0Confirmatory Feedback 1.Does the response make sense given the context ?', \"Rate Model 3 Response for\\xa0Confirmatory Feedback 1.Does the response provide confirmation for the child's statement ?\", 'Rate Model 3 Response for\\xa0Confirmatory Feedback 1.Is the response\\xa0 appropriate for a child ?', 'Rate Model 1 Response\\xa0for\\xa0Confirmatory Feedback 2.Is the response grammatically correct ?', 'Rate Model 1 Response\\xa0for\\xa0Confirmatory Feedback 2.Does the response make sense given the context ?', \"Rate Model 1 Response\\xa0for\\xa0Confirmatory Feedback 2.Does the response provide confirmation for the child's statement ?\", 'Rate Model 1 Response\\xa0for\\xa0Confirmatory Feedback 2.Is the response\\xa0 appropriate for a child ?', 'Rate Model 2 Response\\xa0for\\xa0Confirmatory Feedback 2.Is the response grammatically correct ?', 'Rate Model 2 Response\\xa0for\\xa0Confirmatory Feedback 2.Does the response make sense given the context ?', \"Rate Model 2 Response\\xa0for\\xa0Confirmatory Feedback 2.Does the response provide confirmation for the child's statement ?\", 'Rate Model 2 Response\\xa0for\\xa0Confirmatory Feedback 2.Is the response\\xa0 appropriate for a child ?', 'Rate Model 3 Response\\xa0for\\xa0Confirmatory Feedback 2.Is the response grammatically correct ?', 'Rate Model 3 Response\\xa0for\\xa0Confirmatory Feedback 2.Does the response make sense given the context ?', \"Rate Model 3 Response\\xa0for\\xa0Confirmatory Feedback 2.Does the response provide confirmation for the child's statement ?\", 'Rate Model 3 Response\\xa0for\\xa0Confirmatory Feedback 2.Is the response\\xa0 appropriate for a child ?']\n",
      "Model 2 keys for fluency: ['Rate Model 2 Response for\\xa0Confirmatory Feedback 1.Is the response grammatically correct ?', 'Rate Model 2 Response\\xa0for\\xa0Confirmatory Feedback 2.Is the response grammatically correct ?']\n"
     ]
    }
   ],
   "source": [
    "\n",
    "print(\"Rating list:\", rating_list)\n",
    "print(\"Model 2 keys for fluency:\", fluency_model2_keys_f)"
   ]
  },
  {
   "cell_type": "markdown",
   "metadata": {},
   "source": [
    "### Model 3 Performance - Confirmatory Feedback"
   ]
  },
  {
   "cell_type": "code",
   "execution_count": 11,
   "metadata": {},
   "outputs": [],
   "source": [
    "# Model 3 Performance in Fluency\n",
    "fluency_model3_keys_f = [item for item in rating_list if \"Model 3\" in item and \"grammatically\" in item and \"Confirmatory\" in item ]\n",
    "df['avg_model3_fluency_f'] = (df[fluency_model3_keys_f[0]]+df[fluency_model3_keys_f[1]])/2\n",
    "\n",
    "# Model 3 Performance in Coherence\n",
    "coherence_model3_keys_f = [item for item in rating_list if \"Model 3\" in item and \"context\" in item and \"Confirmatory\" in item ]\n",
    "df['avg_model3_coherence_f'] = (df[coherence_model3_keys_f[0]]+df[coherence_model3_keys_f[1]])/2\n",
    "\n",
    "# Model 3 Performance in Correctness\n",
    "correctness_model3_keys_f = [item for item in rating_list if \"Model 3\" in item and \"confirmation\" in item and \"Confirmatory\" in item ]\n",
    "df['avg_model3_correctness_f'] = (df[correctness_model3_keys_f[0]]+df[correctness_model3_keys_f[1]])/2\n",
    "\n",
    "# Model 3 Performance in Appropriateness\n",
    "appropriateness_model3_keys_f = [item for item in rating_list if \"Model 3\" in item and \"appropriate\" in item and \"Confirmatory\" in item ]\n",
    "df['avg_model3_appropriateness_f'] = (df[appropriateness_model3_keys_f[0]]+df[appropriateness_model3_keys_f[1]])/2"
   ]
  },
  {
   "cell_type": "code",
   "execution_count": 12,
   "metadata": {},
   "outputs": [],
   "source": [
    "df.to_csv(\"context-7.csv\")"
   ]
  },
  {
   "cell_type": "markdown",
   "metadata": {},
   "source": [
    "## Calculate Statistics "
   ]
  },
  {
   "cell_type": "markdown",
   "metadata": {},
   "source": [
    "### Inter Annotator Agreements for Corrective Feedback"
   ]
  },
  {
   "cell_type": "code",
   "execution_count": 13,
   "metadata": {},
   "outputs": [],
   "source": [
    "# Selecting only the desired columns\n",
    "model1 = df[[\"avg_model1_fluency_cf\", \"avg_model1_coherence_cf\", \"avg_model1_correctness_cf\", \"avg_model1_appropriateness_cf\"]]\n",
    "model2 = df[[\"avg_model2_fluency_cf\", \"avg_model2_coherence_cf\", \"avg_model2_correctness_cf\", \"avg_model2_appropriateness_cf\"]]\n",
    "model3 = df[[\"avg_model3_fluency_cf\", \"avg_model3_coherence_cf\", \"avg_model3_correctness_cf\", \"avg_model3_appropriateness_cf\"]]\n"
   ]
  },
  {
   "cell_type": "code",
   "execution_count": 14,
   "metadata": {},
   "outputs": [
    {
     "name": "stdout",
     "output_type": "stream",
     "text": [
      "Fleiss' Kappa of Model 1 on Rephrasing Questions : 0.10502283105022835\n",
      "Fleiss' Kappa of Model 2 on Rephrasing Questions : 0.024875621890547372\n",
      "Fleiss' Kappa of Model 3 on Rephrasing Questions : 0.2195121951219512\n"
     ]
    }
   ],
   "source": [
    "# Function to calculate fleiss Kappa \n",
    "def calculate_fleiss_kappa(dataframe, dataframe_name):\n",
    "    # Number of categories (assuming ratings go from 1 to 5)\n",
    "    num_categories = 5\n",
    "\n",
    "    # Number of raters\n",
    "    #num_raters = len(dataframe)\n",
    "\n",
    "    # Prepare data in the required format for Fleiss' Kappa\n",
    "    ratings = np.zeros((len(dataframe), num_categories))\n",
    "    for i, (_, row) in enumerate(dataframe.iterrows()):\n",
    "        for j, col in enumerate(dataframe.columns):\n",
    "            ratings[i, int(row[col]) - 1] += 1\n",
    "\n",
    "    # Compute Fleiss' Kappa\n",
    "    fleiss_kappa_score = fleiss_kappa(ratings)\n",
    "\n",
    "    # Print Fleiss' Kappa score along with the name of the DataFrame\n",
    "    print(\"Fleiss' Kappa of\", dataframe_name, \":\", fleiss_kappa_score)\n",
    "\n",
    "    return fleiss_kappa_score\n",
    "\n",
    "# Apply function to dataframes \n",
    "fleiss_kappa_score = calculate_fleiss_kappa(model1, \"Model 1 on Rephrasing Questions\")\n",
    "fleiss_kappa_score = calculate_fleiss_kappa(model2, \"Model 2 on Rephrasing Questions\")\n",
    "fleiss_kappa_score = calculate_fleiss_kappa(model3, \"Model 3 on Rephrasing Questions\")"
   ]
  },
  {
   "cell_type": "markdown",
   "metadata": {},
   "source": [
    "### Inter Annotator Agreements for Confirmatory Feedback"
   ]
  },
  {
   "cell_type": "code",
   "execution_count": 15,
   "metadata": {},
   "outputs": [],
   "source": [
    "# Selecting only the desired columns\n",
    "model1_1 = df[[\"avg_model1_fluency_f\", \"avg_model1_coherence_f\", \"avg_model1_correctness_f\", \"avg_model1_appropriateness_f\"]]\n",
    "model2_2 = df[[\"avg_model2_fluency_f\", \"avg_model2_coherence_f\", \"avg_model2_correctness_f\", \"avg_model2_appropriateness_f\"]]\n",
    "model3_3 = df[[\"avg_model3_fluency_f\", \"avg_model3_coherence_f\", \"avg_model3_correctness_f\", \"avg_model3_appropriateness_f\"]]"
   ]
  },
  {
   "cell_type": "code",
   "execution_count": 16,
   "metadata": {},
   "outputs": [
    {
     "name": "stdout",
     "output_type": "stream",
     "text": [
      "Fleiss' Kappa of Model 1 on Feedback on Question Answer : 0.11280101394169835\n",
      "Fleiss' Kappa of Model 2 on Feedback on Question Answer : 0.06666666666666664\n",
      "Fleiss' Kappa of Model 3 on Feedback on Question Answer : 0.3920817369093229\n"
     ]
    }
   ],
   "source": [
    "# Function to calculate fleiss Kappa \n",
    "def calculate_fleiss_kappa(dataframe, dataframe_name):\n",
    "    # Number of categories (assuming ratings go from 1 to 5)\n",
    "    num_categories = 5\n",
    "\n",
    "    # Number of raters\n",
    "    #num_raters = len(dataframe)\n",
    "\n",
    "    # Prepare data in the required format for Fleiss' Kappa\n",
    "    ratings = np.zeros((len(dataframe), num_categories))\n",
    "    for i, (_, row) in enumerate(dataframe.iterrows()):\n",
    "        for j, col in enumerate(dataframe.columns):\n",
    "            ratings[i, int(row[col]) - 1] += 1\n",
    "\n",
    "    # Compute Fleiss' Kappa\n",
    "    fleiss_kappa_score = fleiss_kappa(ratings)\n",
    "\n",
    "    # Print Fleiss' Kappa score along with the name of the DataFrame\n",
    "    print(\"Fleiss' Kappa of\", dataframe_name, \":\", fleiss_kappa_score)\n",
    "\n",
    "    return fleiss_kappa_score\n",
    "\n",
    "# Apply function to dataframes \n",
    "fleiss_kappa_score = calculate_fleiss_kappa(model1_1, \"Model 1 on Feedback on Question Answer\")\n",
    "fleiss_kappa_score = calculate_fleiss_kappa(model2_2, \"Model 2 on Feedback on Question Answer\")\n",
    "fleiss_kappa_score = calculate_fleiss_kappa(model3_3, \"Model 3 on Feedback on Question Answer\")"
   ]
  },
  {
   "cell_type": "markdown",
   "metadata": {},
   "source": [
    "### Calculate Average Fleiss Kappa "
   ]
  },
  {
   "cell_type": "code",
   "execution_count": 24,
   "metadata": {},
   "outputs": [
    {
     "name": "stdout",
     "output_type": "stream",
     "text": [
      "Average: 0.06705608177174135\n",
      "Average: 0.23147741601207508\n",
      "Average: 0.11261615977522872\n",
      "Average: 0.25721023894553835\n",
      "Average: 0.2578469689193497\n",
      "Average: 0.34724655579715913\n"
     ]
    },
    {
     "data": {
      "text/plain": [
       "0.34724655579715913"
      ]
     },
     "execution_count": 24,
     "metadata": {},
     "output_type": "execute_result"
    }
   ],
   "source": [
    "# Find average \n",
    "def calculate_average(numbers):\n",
    "    if not numbers:\n",
    "        print(\"The list is empty.\")\n",
    "        return None  # Return None if the list is empty\n",
    "    total = sum(numbers)\n",
    "    average = total / len(numbers)\n",
    "    print(\"Average:\", average)\n",
    "    return average\n",
    "\n",
    "\n",
    "# Example usage:\n",
    "mode1_rephrase = [0.2309612983770287, -0.11504424778761065, -0.009836065573770501, 0.25203252032520324, 0.10638297872340423, -0.10012674271229387, 0.10502283105022835]\n",
    "model1_feedback = [0.46005509641873277, 0.08771929824561396, 0.033441208198489794, 0.2558139534883722, 0.6770472895040369, -0.006535947712418415, 0.11280101394169835]\n",
    "\n",
    "model2_rephrase = [ 0.27721661054994384, 0.008547008547008517, 0.007092198581560292, 0.10600255427841633, 0.5185185185185187, -0.15393939393939401, 0.024875621890547372]\n",
    "model2_feedback = [0.47967479674796765, 0.2056737588652482, 0.10756972111553774, 0.07038512616201846, 0.7624242424242423,  0.1080773606370876, 0.06666666666666664]\n",
    "\n",
    "model3_rephrase = [0.24231242312423115, 0.22737306843267108,  0.3354908306364618, 0.2107843137254902, 0.5882352941176471, -0.018779342723004716, 0.2195121951219512]\n",
    "model3_feedback = [0.3826199740596628, 0.23096129837702875, 0.13641755634638192, 0.21285140562248997, 0.6056338028169014, 0.4701601164483261,  0.3920817369093229 ]\n",
    "\n",
    "\n",
    "calculate_average(mode1_rephrase)\n",
    "calculate_average(model1_feedback)\n",
    "\n",
    "calculate_average(model2_rephrase)\n",
    "calculate_average(model2_feedback)\n",
    "\n",
    "calculate_average(model3_rephrase)\n",
    "calculate_average(model3_feedback)"
   ]
  },
  {
   "cell_type": "markdown",
   "metadata": {},
   "source": [
    "## Visualizations "
   ]
  },
  {
   "cell_type": "code",
   "execution_count": 18,
   "metadata": {},
   "outputs": [],
   "source": [
    "df_age = pd.read_csv(\"age-gender.csv\")"
   ]
  },
  {
   "cell_type": "code",
   "execution_count": 19,
   "metadata": {},
   "outputs": [
    {
     "data": {
      "text/html": [
       "<div>\n",
       "<style scoped>\n",
       "    .dataframe tbody tr th:only-of-type {\n",
       "        vertical-align: middle;\n",
       "    }\n",
       "\n",
       "    .dataframe tbody tr th {\n",
       "        vertical-align: top;\n",
       "    }\n",
       "\n",
       "    .dataframe thead th {\n",
       "        text-align: right;\n",
       "    }\n",
       "</style>\n",
       "<table border=\"1\" class=\"dataframe\">\n",
       "  <thead>\n",
       "    <tr style=\"text-align: right;\">\n",
       "      <th></th>\n",
       "      <th>How old are you?</th>\n",
       "      <th>What is your gender</th>\n",
       "    </tr>\n",
       "  </thead>\n",
       "  <tbody>\n",
       "    <tr>\n",
       "      <th>0</th>\n",
       "      <td>18 - 25</td>\n",
       "      <td>Male</td>\n",
       "    </tr>\n",
       "    <tr>\n",
       "      <th>1</th>\n",
       "      <td>26 - 35</td>\n",
       "      <td>Male</td>\n",
       "    </tr>\n",
       "    <tr>\n",
       "      <th>2</th>\n",
       "      <td>26 - 35</td>\n",
       "      <td>Female</td>\n",
       "    </tr>\n",
       "    <tr>\n",
       "      <th>3</th>\n",
       "      <td>26 - 35</td>\n",
       "      <td>Female</td>\n",
       "    </tr>\n",
       "    <tr>\n",
       "      <th>4</th>\n",
       "      <td>26 - 35</td>\n",
       "      <td>Male</td>\n",
       "    </tr>\n",
       "  </tbody>\n",
       "</table>\n",
       "</div>"
      ],
      "text/plain": [
       "  How old are you? What is your gender\n",
       "0          18 - 25                Male\n",
       "1          26 - 35                Male\n",
       "2          26 - 35              Female\n",
       "3          26 - 35              Female\n",
       "4          26 - 35                Male"
      ]
     },
     "execution_count": 19,
     "metadata": {},
     "output_type": "execute_result"
    }
   ],
   "source": [
    "df_age.head()"
   ]
  },
  {
   "cell_type": "code",
   "execution_count": 36,
   "metadata": {},
   "outputs": [
    {
     "data": {
      "application/vnd.plotly.v1+json": {
       "config": {
        "plotlyServerURL": "https://plot.ly"
       },
       "data": [
        {
         "domain": {
          "x": [
           0,
           1
          ],
          "y": [
           0,
           1
          ]
         },
         "hovertemplate": "Age Group=%{label}<br>Count=%{value}<extra></extra>",
         "labels": [
          "26 - 35",
          "36 - 45",
          "18 - 25",
          "46 - 55"
         ],
         "legendgroup": "",
         "name": "",
         "showlegend": true,
         "type": "pie",
         "values": [
          30,
          9,
          8,
          2
         ]
        }
       ],
       "layout": {
        "legend": {
         "tracegroupgap": 0
        },
        "margin": {
         "t": 60
        },
        "piecolorway": [
         "rgb(102, 197, 204)",
         "rgb(246, 207, 113)",
         "rgb(248, 156, 116)",
         "rgb(220, 176, 242)",
         "rgb(135, 197, 95)",
         "rgb(158, 185, 243)",
         "rgb(254, 136, 177)",
         "rgb(201, 219, 116)",
         "rgb(139, 224, 164)",
         "rgb(180, 151, 231)",
         "rgb(179, 179, 179)"
        ],
        "template": {
         "data": {
          "bar": [
           {
            "error_x": {
             "color": "#2a3f5f"
            },
            "error_y": {
             "color": "#2a3f5f"
            },
            "marker": {
             "line": {
              "color": "#E5ECF6",
              "width": 0.5
             },
             "pattern": {
              "fillmode": "overlay",
              "size": 10,
              "solidity": 0.2
             }
            },
            "type": "bar"
           }
          ],
          "barpolar": [
           {
            "marker": {
             "line": {
              "color": "#E5ECF6",
              "width": 0.5
             },
             "pattern": {
              "fillmode": "overlay",
              "size": 10,
              "solidity": 0.2
             }
            },
            "type": "barpolar"
           }
          ],
          "carpet": [
           {
            "aaxis": {
             "endlinecolor": "#2a3f5f",
             "gridcolor": "white",
             "linecolor": "white",
             "minorgridcolor": "white",
             "startlinecolor": "#2a3f5f"
            },
            "baxis": {
             "endlinecolor": "#2a3f5f",
             "gridcolor": "white",
             "linecolor": "white",
             "minorgridcolor": "white",
             "startlinecolor": "#2a3f5f"
            },
            "type": "carpet"
           }
          ],
          "choropleth": [
           {
            "colorbar": {
             "outlinewidth": 0,
             "ticks": ""
            },
            "type": "choropleth"
           }
          ],
          "contour": [
           {
            "colorbar": {
             "outlinewidth": 0,
             "ticks": ""
            },
            "colorscale": [
             [
              0,
              "#0d0887"
             ],
             [
              0.1111111111111111,
              "#46039f"
             ],
             [
              0.2222222222222222,
              "#7201a8"
             ],
             [
              0.3333333333333333,
              "#9c179e"
             ],
             [
              0.4444444444444444,
              "#bd3786"
             ],
             [
              0.5555555555555556,
              "#d8576b"
             ],
             [
              0.6666666666666666,
              "#ed7953"
             ],
             [
              0.7777777777777778,
              "#fb9f3a"
             ],
             [
              0.8888888888888888,
              "#fdca26"
             ],
             [
              1,
              "#f0f921"
             ]
            ],
            "type": "contour"
           }
          ],
          "contourcarpet": [
           {
            "colorbar": {
             "outlinewidth": 0,
             "ticks": ""
            },
            "type": "contourcarpet"
           }
          ],
          "heatmap": [
           {
            "colorbar": {
             "outlinewidth": 0,
             "ticks": ""
            },
            "colorscale": [
             [
              0,
              "#0d0887"
             ],
             [
              0.1111111111111111,
              "#46039f"
             ],
             [
              0.2222222222222222,
              "#7201a8"
             ],
             [
              0.3333333333333333,
              "#9c179e"
             ],
             [
              0.4444444444444444,
              "#bd3786"
             ],
             [
              0.5555555555555556,
              "#d8576b"
             ],
             [
              0.6666666666666666,
              "#ed7953"
             ],
             [
              0.7777777777777778,
              "#fb9f3a"
             ],
             [
              0.8888888888888888,
              "#fdca26"
             ],
             [
              1,
              "#f0f921"
             ]
            ],
            "type": "heatmap"
           }
          ],
          "heatmapgl": [
           {
            "colorbar": {
             "outlinewidth": 0,
             "ticks": ""
            },
            "colorscale": [
             [
              0,
              "#0d0887"
             ],
             [
              0.1111111111111111,
              "#46039f"
             ],
             [
              0.2222222222222222,
              "#7201a8"
             ],
             [
              0.3333333333333333,
              "#9c179e"
             ],
             [
              0.4444444444444444,
              "#bd3786"
             ],
             [
              0.5555555555555556,
              "#d8576b"
             ],
             [
              0.6666666666666666,
              "#ed7953"
             ],
             [
              0.7777777777777778,
              "#fb9f3a"
             ],
             [
              0.8888888888888888,
              "#fdca26"
             ],
             [
              1,
              "#f0f921"
             ]
            ],
            "type": "heatmapgl"
           }
          ],
          "histogram": [
           {
            "marker": {
             "pattern": {
              "fillmode": "overlay",
              "size": 10,
              "solidity": 0.2
             }
            },
            "type": "histogram"
           }
          ],
          "histogram2d": [
           {
            "colorbar": {
             "outlinewidth": 0,
             "ticks": ""
            },
            "colorscale": [
             [
              0,
              "#0d0887"
             ],
             [
              0.1111111111111111,
              "#46039f"
             ],
             [
              0.2222222222222222,
              "#7201a8"
             ],
             [
              0.3333333333333333,
              "#9c179e"
             ],
             [
              0.4444444444444444,
              "#bd3786"
             ],
             [
              0.5555555555555556,
              "#d8576b"
             ],
             [
              0.6666666666666666,
              "#ed7953"
             ],
             [
              0.7777777777777778,
              "#fb9f3a"
             ],
             [
              0.8888888888888888,
              "#fdca26"
             ],
             [
              1,
              "#f0f921"
             ]
            ],
            "type": "histogram2d"
           }
          ],
          "histogram2dcontour": [
           {
            "colorbar": {
             "outlinewidth": 0,
             "ticks": ""
            },
            "colorscale": [
             [
              0,
              "#0d0887"
             ],
             [
              0.1111111111111111,
              "#46039f"
             ],
             [
              0.2222222222222222,
              "#7201a8"
             ],
             [
              0.3333333333333333,
              "#9c179e"
             ],
             [
              0.4444444444444444,
              "#bd3786"
             ],
             [
              0.5555555555555556,
              "#d8576b"
             ],
             [
              0.6666666666666666,
              "#ed7953"
             ],
             [
              0.7777777777777778,
              "#fb9f3a"
             ],
             [
              0.8888888888888888,
              "#fdca26"
             ],
             [
              1,
              "#f0f921"
             ]
            ],
            "type": "histogram2dcontour"
           }
          ],
          "mesh3d": [
           {
            "colorbar": {
             "outlinewidth": 0,
             "ticks": ""
            },
            "type": "mesh3d"
           }
          ],
          "parcoords": [
           {
            "line": {
             "colorbar": {
              "outlinewidth": 0,
              "ticks": ""
             }
            },
            "type": "parcoords"
           }
          ],
          "pie": [
           {
            "automargin": true,
            "type": "pie"
           }
          ],
          "scatter": [
           {
            "fillpattern": {
             "fillmode": "overlay",
             "size": 10,
             "solidity": 0.2
            },
            "type": "scatter"
           }
          ],
          "scatter3d": [
           {
            "line": {
             "colorbar": {
              "outlinewidth": 0,
              "ticks": ""
             }
            },
            "marker": {
             "colorbar": {
              "outlinewidth": 0,
              "ticks": ""
             }
            },
            "type": "scatter3d"
           }
          ],
          "scattercarpet": [
           {
            "marker": {
             "colorbar": {
              "outlinewidth": 0,
              "ticks": ""
             }
            },
            "type": "scattercarpet"
           }
          ],
          "scattergeo": [
           {
            "marker": {
             "colorbar": {
              "outlinewidth": 0,
              "ticks": ""
             }
            },
            "type": "scattergeo"
           }
          ],
          "scattergl": [
           {
            "marker": {
             "colorbar": {
              "outlinewidth": 0,
              "ticks": ""
             }
            },
            "type": "scattergl"
           }
          ],
          "scattermapbox": [
           {
            "marker": {
             "colorbar": {
              "outlinewidth": 0,
              "ticks": ""
             }
            },
            "type": "scattermapbox"
           }
          ],
          "scatterpolar": [
           {
            "marker": {
             "colorbar": {
              "outlinewidth": 0,
              "ticks": ""
             }
            },
            "type": "scatterpolar"
           }
          ],
          "scatterpolargl": [
           {
            "marker": {
             "colorbar": {
              "outlinewidth": 0,
              "ticks": ""
             }
            },
            "type": "scatterpolargl"
           }
          ],
          "scatterternary": [
           {
            "marker": {
             "colorbar": {
              "outlinewidth": 0,
              "ticks": ""
             }
            },
            "type": "scatterternary"
           }
          ],
          "surface": [
           {
            "colorbar": {
             "outlinewidth": 0,
             "ticks": ""
            },
            "colorscale": [
             [
              0,
              "#0d0887"
             ],
             [
              0.1111111111111111,
              "#46039f"
             ],
             [
              0.2222222222222222,
              "#7201a8"
             ],
             [
              0.3333333333333333,
              "#9c179e"
             ],
             [
              0.4444444444444444,
              "#bd3786"
             ],
             [
              0.5555555555555556,
              "#d8576b"
             ],
             [
              0.6666666666666666,
              "#ed7953"
             ],
             [
              0.7777777777777778,
              "#fb9f3a"
             ],
             [
              0.8888888888888888,
              "#fdca26"
             ],
             [
              1,
              "#f0f921"
             ]
            ],
            "type": "surface"
           }
          ],
          "table": [
           {
            "cells": {
             "fill": {
              "color": "#EBF0F8"
             },
             "line": {
              "color": "white"
             }
            },
            "header": {
             "fill": {
              "color": "#C8D4E3"
             },
             "line": {
              "color": "white"
             }
            },
            "type": "table"
           }
          ]
         },
         "layout": {
          "annotationdefaults": {
           "arrowcolor": "#2a3f5f",
           "arrowhead": 0,
           "arrowwidth": 1
          },
          "autotypenumbers": "strict",
          "coloraxis": {
           "colorbar": {
            "outlinewidth": 0,
            "ticks": ""
           }
          },
          "colorscale": {
           "diverging": [
            [
             0,
             "#8e0152"
            ],
            [
             0.1,
             "#c51b7d"
            ],
            [
             0.2,
             "#de77ae"
            ],
            [
             0.3,
             "#f1b6da"
            ],
            [
             0.4,
             "#fde0ef"
            ],
            [
             0.5,
             "#f7f7f7"
            ],
            [
             0.6,
             "#e6f5d0"
            ],
            [
             0.7,
             "#b8e186"
            ],
            [
             0.8,
             "#7fbc41"
            ],
            [
             0.9,
             "#4d9221"
            ],
            [
             1,
             "#276419"
            ]
           ],
           "sequential": [
            [
             0,
             "#0d0887"
            ],
            [
             0.1111111111111111,
             "#46039f"
            ],
            [
             0.2222222222222222,
             "#7201a8"
            ],
            [
             0.3333333333333333,
             "#9c179e"
            ],
            [
             0.4444444444444444,
             "#bd3786"
            ],
            [
             0.5555555555555556,
             "#d8576b"
            ],
            [
             0.6666666666666666,
             "#ed7953"
            ],
            [
             0.7777777777777778,
             "#fb9f3a"
            ],
            [
             0.8888888888888888,
             "#fdca26"
            ],
            [
             1,
             "#f0f921"
            ]
           ],
           "sequentialminus": [
            [
             0,
             "#0d0887"
            ],
            [
             0.1111111111111111,
             "#46039f"
            ],
            [
             0.2222222222222222,
             "#7201a8"
            ],
            [
             0.3333333333333333,
             "#9c179e"
            ],
            [
             0.4444444444444444,
             "#bd3786"
            ],
            [
             0.5555555555555556,
             "#d8576b"
            ],
            [
             0.6666666666666666,
             "#ed7953"
            ],
            [
             0.7777777777777778,
             "#fb9f3a"
            ],
            [
             0.8888888888888888,
             "#fdca26"
            ],
            [
             1,
             "#f0f921"
            ]
           ]
          },
          "colorway": [
           "#636efa",
           "#EF553B",
           "#00cc96",
           "#ab63fa",
           "#FFA15A",
           "#19d3f3",
           "#FF6692",
           "#B6E880",
           "#FF97FF",
           "#FECB52"
          ],
          "font": {
           "color": "#2a3f5f"
          },
          "geo": {
           "bgcolor": "white",
           "lakecolor": "white",
           "landcolor": "#E5ECF6",
           "showlakes": true,
           "showland": true,
           "subunitcolor": "white"
          },
          "hoverlabel": {
           "align": "left"
          },
          "hovermode": "closest",
          "mapbox": {
           "style": "light"
          },
          "paper_bgcolor": "white",
          "plot_bgcolor": "#E5ECF6",
          "polar": {
           "angularaxis": {
            "gridcolor": "white",
            "linecolor": "white",
            "ticks": ""
           },
           "bgcolor": "#E5ECF6",
           "radialaxis": {
            "gridcolor": "white",
            "linecolor": "white",
            "ticks": ""
           }
          },
          "scene": {
           "xaxis": {
            "backgroundcolor": "#E5ECF6",
            "gridcolor": "white",
            "gridwidth": 2,
            "linecolor": "white",
            "showbackground": true,
            "ticks": "",
            "zerolinecolor": "white"
           },
           "yaxis": {
            "backgroundcolor": "#E5ECF6",
            "gridcolor": "white",
            "gridwidth": 2,
            "linecolor": "white",
            "showbackground": true,
            "ticks": "",
            "zerolinecolor": "white"
           },
           "zaxis": {
            "backgroundcolor": "#E5ECF6",
            "gridcolor": "white",
            "gridwidth": 2,
            "linecolor": "white",
            "showbackground": true,
            "ticks": "",
            "zerolinecolor": "white"
           }
          },
          "shapedefaults": {
           "line": {
            "color": "#2a3f5f"
           }
          },
          "ternary": {
           "aaxis": {
            "gridcolor": "white",
            "linecolor": "white",
            "ticks": ""
           },
           "baxis": {
            "gridcolor": "white",
            "linecolor": "white",
            "ticks": ""
           },
           "bgcolor": "#E5ECF6",
           "caxis": {
            "gridcolor": "white",
            "linecolor": "white",
            "ticks": ""
           }
          },
          "title": {
           "x": 0.05
          },
          "xaxis": {
           "automargin": true,
           "gridcolor": "white",
           "linecolor": "white",
           "ticks": "",
           "title": {
            "standoff": 15
           },
           "zerolinecolor": "white",
           "zerolinewidth": 2
          },
          "yaxis": {
           "automargin": true,
           "gridcolor": "white",
           "linecolor": "white",
           "ticks": "",
           "title": {
            "standoff": 15
           },
           "zerolinecolor": "white",
           "zerolinewidth": 2
          }
         }
        }
       }
      }
     },
     "metadata": {},
     "output_type": "display_data"
    },
    {
     "data": {
      "application/vnd.plotly.v1+json": {
       "config": {
        "plotlyServerURL": "https://plot.ly"
       },
       "data": [
        {
         "cells": {
          "align": [
           "left",
           "left",
           "left",
           "left",
           "left"
          ],
          "fill": {
           "color": "lavender"
          },
          "values": [
           [
            "26 - 35",
            "36 - 45",
            "18 - 25",
            "46 - 55"
           ],
           [
            30,
            9,
            8,
            2
           ]
          ]
         },
         "header": {
          "align": [
           "left",
           "left",
           "left",
           "left",
           "left"
          ],
          "fill": {
           "color": "paleturquoise"
          },
          "values": [
           "Age Group",
           "Count"
          ]
         },
         "type": "table"
        }
       ],
       "layout": {
        "template": {
         "data": {
          "bar": [
           {
            "error_x": {
             "color": "#2a3f5f"
            },
            "error_y": {
             "color": "#2a3f5f"
            },
            "marker": {
             "line": {
              "color": "#E5ECF6",
              "width": 0.5
             },
             "pattern": {
              "fillmode": "overlay",
              "size": 10,
              "solidity": 0.2
             }
            },
            "type": "bar"
           }
          ],
          "barpolar": [
           {
            "marker": {
             "line": {
              "color": "#E5ECF6",
              "width": 0.5
             },
             "pattern": {
              "fillmode": "overlay",
              "size": 10,
              "solidity": 0.2
             }
            },
            "type": "barpolar"
           }
          ],
          "carpet": [
           {
            "aaxis": {
             "endlinecolor": "#2a3f5f",
             "gridcolor": "white",
             "linecolor": "white",
             "minorgridcolor": "white",
             "startlinecolor": "#2a3f5f"
            },
            "baxis": {
             "endlinecolor": "#2a3f5f",
             "gridcolor": "white",
             "linecolor": "white",
             "minorgridcolor": "white",
             "startlinecolor": "#2a3f5f"
            },
            "type": "carpet"
           }
          ],
          "choropleth": [
           {
            "colorbar": {
             "outlinewidth": 0,
             "ticks": ""
            },
            "type": "choropleth"
           }
          ],
          "contour": [
           {
            "colorbar": {
             "outlinewidth": 0,
             "ticks": ""
            },
            "colorscale": [
             [
              0,
              "#0d0887"
             ],
             [
              0.1111111111111111,
              "#46039f"
             ],
             [
              0.2222222222222222,
              "#7201a8"
             ],
             [
              0.3333333333333333,
              "#9c179e"
             ],
             [
              0.4444444444444444,
              "#bd3786"
             ],
             [
              0.5555555555555556,
              "#d8576b"
             ],
             [
              0.6666666666666666,
              "#ed7953"
             ],
             [
              0.7777777777777778,
              "#fb9f3a"
             ],
             [
              0.8888888888888888,
              "#fdca26"
             ],
             [
              1,
              "#f0f921"
             ]
            ],
            "type": "contour"
           }
          ],
          "contourcarpet": [
           {
            "colorbar": {
             "outlinewidth": 0,
             "ticks": ""
            },
            "type": "contourcarpet"
           }
          ],
          "heatmap": [
           {
            "colorbar": {
             "outlinewidth": 0,
             "ticks": ""
            },
            "colorscale": [
             [
              0,
              "#0d0887"
             ],
             [
              0.1111111111111111,
              "#46039f"
             ],
             [
              0.2222222222222222,
              "#7201a8"
             ],
             [
              0.3333333333333333,
              "#9c179e"
             ],
             [
              0.4444444444444444,
              "#bd3786"
             ],
             [
              0.5555555555555556,
              "#d8576b"
             ],
             [
              0.6666666666666666,
              "#ed7953"
             ],
             [
              0.7777777777777778,
              "#fb9f3a"
             ],
             [
              0.8888888888888888,
              "#fdca26"
             ],
             [
              1,
              "#f0f921"
             ]
            ],
            "type": "heatmap"
           }
          ],
          "heatmapgl": [
           {
            "colorbar": {
             "outlinewidth": 0,
             "ticks": ""
            },
            "colorscale": [
             [
              0,
              "#0d0887"
             ],
             [
              0.1111111111111111,
              "#46039f"
             ],
             [
              0.2222222222222222,
              "#7201a8"
             ],
             [
              0.3333333333333333,
              "#9c179e"
             ],
             [
              0.4444444444444444,
              "#bd3786"
             ],
             [
              0.5555555555555556,
              "#d8576b"
             ],
             [
              0.6666666666666666,
              "#ed7953"
             ],
             [
              0.7777777777777778,
              "#fb9f3a"
             ],
             [
              0.8888888888888888,
              "#fdca26"
             ],
             [
              1,
              "#f0f921"
             ]
            ],
            "type": "heatmapgl"
           }
          ],
          "histogram": [
           {
            "marker": {
             "pattern": {
              "fillmode": "overlay",
              "size": 10,
              "solidity": 0.2
             }
            },
            "type": "histogram"
           }
          ],
          "histogram2d": [
           {
            "colorbar": {
             "outlinewidth": 0,
             "ticks": ""
            },
            "colorscale": [
             [
              0,
              "#0d0887"
             ],
             [
              0.1111111111111111,
              "#46039f"
             ],
             [
              0.2222222222222222,
              "#7201a8"
             ],
             [
              0.3333333333333333,
              "#9c179e"
             ],
             [
              0.4444444444444444,
              "#bd3786"
             ],
             [
              0.5555555555555556,
              "#d8576b"
             ],
             [
              0.6666666666666666,
              "#ed7953"
             ],
             [
              0.7777777777777778,
              "#fb9f3a"
             ],
             [
              0.8888888888888888,
              "#fdca26"
             ],
             [
              1,
              "#f0f921"
             ]
            ],
            "type": "histogram2d"
           }
          ],
          "histogram2dcontour": [
           {
            "colorbar": {
             "outlinewidth": 0,
             "ticks": ""
            },
            "colorscale": [
             [
              0,
              "#0d0887"
             ],
             [
              0.1111111111111111,
              "#46039f"
             ],
             [
              0.2222222222222222,
              "#7201a8"
             ],
             [
              0.3333333333333333,
              "#9c179e"
             ],
             [
              0.4444444444444444,
              "#bd3786"
             ],
             [
              0.5555555555555556,
              "#d8576b"
             ],
             [
              0.6666666666666666,
              "#ed7953"
             ],
             [
              0.7777777777777778,
              "#fb9f3a"
             ],
             [
              0.8888888888888888,
              "#fdca26"
             ],
             [
              1,
              "#f0f921"
             ]
            ],
            "type": "histogram2dcontour"
           }
          ],
          "mesh3d": [
           {
            "colorbar": {
             "outlinewidth": 0,
             "ticks": ""
            },
            "type": "mesh3d"
           }
          ],
          "parcoords": [
           {
            "line": {
             "colorbar": {
              "outlinewidth": 0,
              "ticks": ""
             }
            },
            "type": "parcoords"
           }
          ],
          "pie": [
           {
            "automargin": true,
            "type": "pie"
           }
          ],
          "scatter": [
           {
            "fillpattern": {
             "fillmode": "overlay",
             "size": 10,
             "solidity": 0.2
            },
            "type": "scatter"
           }
          ],
          "scatter3d": [
           {
            "line": {
             "colorbar": {
              "outlinewidth": 0,
              "ticks": ""
             }
            },
            "marker": {
             "colorbar": {
              "outlinewidth": 0,
              "ticks": ""
             }
            },
            "type": "scatter3d"
           }
          ],
          "scattercarpet": [
           {
            "marker": {
             "colorbar": {
              "outlinewidth": 0,
              "ticks": ""
             }
            },
            "type": "scattercarpet"
           }
          ],
          "scattergeo": [
           {
            "marker": {
             "colorbar": {
              "outlinewidth": 0,
              "ticks": ""
             }
            },
            "type": "scattergeo"
           }
          ],
          "scattergl": [
           {
            "marker": {
             "colorbar": {
              "outlinewidth": 0,
              "ticks": ""
             }
            },
            "type": "scattergl"
           }
          ],
          "scattermapbox": [
           {
            "marker": {
             "colorbar": {
              "outlinewidth": 0,
              "ticks": ""
             }
            },
            "type": "scattermapbox"
           }
          ],
          "scatterpolar": [
           {
            "marker": {
             "colorbar": {
              "outlinewidth": 0,
              "ticks": ""
             }
            },
            "type": "scatterpolar"
           }
          ],
          "scatterpolargl": [
           {
            "marker": {
             "colorbar": {
              "outlinewidth": 0,
              "ticks": ""
             }
            },
            "type": "scatterpolargl"
           }
          ],
          "scatterternary": [
           {
            "marker": {
             "colorbar": {
              "outlinewidth": 0,
              "ticks": ""
             }
            },
            "type": "scatterternary"
           }
          ],
          "surface": [
           {
            "colorbar": {
             "outlinewidth": 0,
             "ticks": ""
            },
            "colorscale": [
             [
              0,
              "#0d0887"
             ],
             [
              0.1111111111111111,
              "#46039f"
             ],
             [
              0.2222222222222222,
              "#7201a8"
             ],
             [
              0.3333333333333333,
              "#9c179e"
             ],
             [
              0.4444444444444444,
              "#bd3786"
             ],
             [
              0.5555555555555556,
              "#d8576b"
             ],
             [
              0.6666666666666666,
              "#ed7953"
             ],
             [
              0.7777777777777778,
              "#fb9f3a"
             ],
             [
              0.8888888888888888,
              "#fdca26"
             ],
             [
              1,
              "#f0f921"
             ]
            ],
            "type": "surface"
           }
          ],
          "table": [
           {
            "cells": {
             "fill": {
              "color": "#EBF0F8"
             },
             "line": {
              "color": "white"
             }
            },
            "header": {
             "fill": {
              "color": "#C8D4E3"
             },
             "line": {
              "color": "white"
             }
            },
            "type": "table"
           }
          ]
         },
         "layout": {
          "annotationdefaults": {
           "arrowcolor": "#2a3f5f",
           "arrowhead": 0,
           "arrowwidth": 1
          },
          "autotypenumbers": "strict",
          "coloraxis": {
           "colorbar": {
            "outlinewidth": 0,
            "ticks": ""
           }
          },
          "colorscale": {
           "diverging": [
            [
             0,
             "#8e0152"
            ],
            [
             0.1,
             "#c51b7d"
            ],
            [
             0.2,
             "#de77ae"
            ],
            [
             0.3,
             "#f1b6da"
            ],
            [
             0.4,
             "#fde0ef"
            ],
            [
             0.5,
             "#f7f7f7"
            ],
            [
             0.6,
             "#e6f5d0"
            ],
            [
             0.7,
             "#b8e186"
            ],
            [
             0.8,
             "#7fbc41"
            ],
            [
             0.9,
             "#4d9221"
            ],
            [
             1,
             "#276419"
            ]
           ],
           "sequential": [
            [
             0,
             "#0d0887"
            ],
            [
             0.1111111111111111,
             "#46039f"
            ],
            [
             0.2222222222222222,
             "#7201a8"
            ],
            [
             0.3333333333333333,
             "#9c179e"
            ],
            [
             0.4444444444444444,
             "#bd3786"
            ],
            [
             0.5555555555555556,
             "#d8576b"
            ],
            [
             0.6666666666666666,
             "#ed7953"
            ],
            [
             0.7777777777777778,
             "#fb9f3a"
            ],
            [
             0.8888888888888888,
             "#fdca26"
            ],
            [
             1,
             "#f0f921"
            ]
           ],
           "sequentialminus": [
            [
             0,
             "#0d0887"
            ],
            [
             0.1111111111111111,
             "#46039f"
            ],
            [
             0.2222222222222222,
             "#7201a8"
            ],
            [
             0.3333333333333333,
             "#9c179e"
            ],
            [
             0.4444444444444444,
             "#bd3786"
            ],
            [
             0.5555555555555556,
             "#d8576b"
            ],
            [
             0.6666666666666666,
             "#ed7953"
            ],
            [
             0.7777777777777778,
             "#fb9f3a"
            ],
            [
             0.8888888888888888,
             "#fdca26"
            ],
            [
             1,
             "#f0f921"
            ]
           ]
          },
          "colorway": [
           "#636efa",
           "#EF553B",
           "#00cc96",
           "#ab63fa",
           "#FFA15A",
           "#19d3f3",
           "#FF6692",
           "#B6E880",
           "#FF97FF",
           "#FECB52"
          ],
          "font": {
           "color": "#2a3f5f"
          },
          "geo": {
           "bgcolor": "white",
           "lakecolor": "white",
           "landcolor": "#E5ECF6",
           "showlakes": true,
           "showland": true,
           "subunitcolor": "white"
          },
          "hoverlabel": {
           "align": "left"
          },
          "hovermode": "closest",
          "mapbox": {
           "style": "light"
          },
          "paper_bgcolor": "white",
          "plot_bgcolor": "#E5ECF6",
          "polar": {
           "angularaxis": {
            "gridcolor": "white",
            "linecolor": "white",
            "ticks": ""
           },
           "bgcolor": "#E5ECF6",
           "radialaxis": {
            "gridcolor": "white",
            "linecolor": "white",
            "ticks": ""
           }
          },
          "scene": {
           "xaxis": {
            "backgroundcolor": "#E5ECF6",
            "gridcolor": "white",
            "gridwidth": 2,
            "linecolor": "white",
            "showbackground": true,
            "ticks": "",
            "zerolinecolor": "white"
           },
           "yaxis": {
            "backgroundcolor": "#E5ECF6",
            "gridcolor": "white",
            "gridwidth": 2,
            "linecolor": "white",
            "showbackground": true,
            "ticks": "",
            "zerolinecolor": "white"
           },
           "zaxis": {
            "backgroundcolor": "#E5ECF6",
            "gridcolor": "white",
            "gridwidth": 2,
            "linecolor": "white",
            "showbackground": true,
            "ticks": "",
            "zerolinecolor": "white"
           }
          },
          "shapedefaults": {
           "line": {
            "color": "#2a3f5f"
           }
          },
          "ternary": {
           "aaxis": {
            "gridcolor": "white",
            "linecolor": "white",
            "ticks": ""
           },
           "baxis": {
            "gridcolor": "white",
            "linecolor": "white",
            "ticks": ""
           },
           "bgcolor": "#E5ECF6",
           "caxis": {
            "gridcolor": "white",
            "linecolor": "white",
            "ticks": ""
           }
          },
          "title": {
           "x": 0.05
          },
          "xaxis": {
           "automargin": true,
           "gridcolor": "white",
           "linecolor": "white",
           "ticks": "",
           "title": {
            "standoff": 15
           },
           "zerolinecolor": "white",
           "zerolinewidth": 2
          },
          "yaxis": {
           "automargin": true,
           "gridcolor": "white",
           "linecolor": "white",
           "ticks": "",
           "title": {
            "standoff": 15
           },
           "zerolinecolor": "white",
           "zerolinewidth": 2
          }
         }
        },
        "width": 400
       }
      }
     },
     "metadata": {},
     "output_type": "display_data"
    }
   ],
   "source": [
    "# Count the occurrences of each age group\n",
    "age_counts = df_age[\"How old are you?\"].value_counts().reset_index()\n",
    "age_counts.columns = [\"Age Group\", \"Count\"]\n",
    "\n",
    "# Create pie chart figure\n",
    "fig_pie = px.pie(age_counts, values=\"Count\", names=\"Age Group\", \n",
    "                 #title=\"Distribution of Participants by Age Range\",\n",
    "                 color_discrete_sequence=px.colors.qualitative.Pastel)\n",
    "\n",
    "\n",
    "fig_pie.show()\n",
    "\n",
    "# Create table trace\n",
    "table_trace = go.Table(\n",
    "    header=dict(values=[\"Age Group\", \"Count\"],\n",
    "                fill=dict(color='paleturquoise'),\n",
    "                align=['left'] * 5),\n",
    "    cells=dict(values=[age_counts['Age Group'], age_counts['Count']],\n",
    "               fill=dict(color='lavender'),\n",
    "               align=['left'] * 5))\n",
    "\n",
    "# Create table figure\n",
    "fig_table = go.Figure(data=[table_trace])\n",
    "\n",
    "# Update layout of table figure\n",
    "fig_table.update_layout(\n",
    "    #title=\"Distribution of Participants by Age Range\",\n",
    "    width=400,\n",
    ")\n",
    "\n",
    "fig_table.show()"
   ]
  },
  {
   "cell_type": "code",
   "execution_count": 39,
   "metadata": {},
   "outputs": [
    {
     "data": {
      "application/vnd.plotly.v1+json": {
       "config": {
        "plotlyServerURL": "https://plot.ly"
       },
       "data": [
        {
         "domain": {
          "x": [
           0,
           1
          ],
          "y": [
           0,
           1
          ]
         },
         "hovertemplate": "Gender=%{label}<br>Count=%{value}<extra></extra>",
         "labels": [
          "Male",
          "Female"
         ],
         "legendgroup": "",
         "name": "",
         "showlegend": true,
         "type": "pie",
         "values": [
          28,
          21
         ]
        }
       ],
       "layout": {
        "legend": {
         "tracegroupgap": 0
        },
        "margin": {
         "t": 60
        },
        "piecolorway": [
         "rgb(102, 197, 204)",
         "rgb(246, 207, 113)",
         "rgb(248, 156, 116)",
         "rgb(220, 176, 242)",
         "rgb(135, 197, 95)",
         "rgb(158, 185, 243)",
         "rgb(254, 136, 177)",
         "rgb(201, 219, 116)",
         "rgb(139, 224, 164)",
         "rgb(180, 151, 231)",
         "rgb(179, 179, 179)"
        ],
        "template": {
         "data": {
          "bar": [
           {
            "error_x": {
             "color": "#2a3f5f"
            },
            "error_y": {
             "color": "#2a3f5f"
            },
            "marker": {
             "line": {
              "color": "#E5ECF6",
              "width": 0.5
             },
             "pattern": {
              "fillmode": "overlay",
              "size": 10,
              "solidity": 0.2
             }
            },
            "type": "bar"
           }
          ],
          "barpolar": [
           {
            "marker": {
             "line": {
              "color": "#E5ECF6",
              "width": 0.5
             },
             "pattern": {
              "fillmode": "overlay",
              "size": 10,
              "solidity": 0.2
             }
            },
            "type": "barpolar"
           }
          ],
          "carpet": [
           {
            "aaxis": {
             "endlinecolor": "#2a3f5f",
             "gridcolor": "white",
             "linecolor": "white",
             "minorgridcolor": "white",
             "startlinecolor": "#2a3f5f"
            },
            "baxis": {
             "endlinecolor": "#2a3f5f",
             "gridcolor": "white",
             "linecolor": "white",
             "minorgridcolor": "white",
             "startlinecolor": "#2a3f5f"
            },
            "type": "carpet"
           }
          ],
          "choropleth": [
           {
            "colorbar": {
             "outlinewidth": 0,
             "ticks": ""
            },
            "type": "choropleth"
           }
          ],
          "contour": [
           {
            "colorbar": {
             "outlinewidth": 0,
             "ticks": ""
            },
            "colorscale": [
             [
              0,
              "#0d0887"
             ],
             [
              0.1111111111111111,
              "#46039f"
             ],
             [
              0.2222222222222222,
              "#7201a8"
             ],
             [
              0.3333333333333333,
              "#9c179e"
             ],
             [
              0.4444444444444444,
              "#bd3786"
             ],
             [
              0.5555555555555556,
              "#d8576b"
             ],
             [
              0.6666666666666666,
              "#ed7953"
             ],
             [
              0.7777777777777778,
              "#fb9f3a"
             ],
             [
              0.8888888888888888,
              "#fdca26"
             ],
             [
              1,
              "#f0f921"
             ]
            ],
            "type": "contour"
           }
          ],
          "contourcarpet": [
           {
            "colorbar": {
             "outlinewidth": 0,
             "ticks": ""
            },
            "type": "contourcarpet"
           }
          ],
          "heatmap": [
           {
            "colorbar": {
             "outlinewidth": 0,
             "ticks": ""
            },
            "colorscale": [
             [
              0,
              "#0d0887"
             ],
             [
              0.1111111111111111,
              "#46039f"
             ],
             [
              0.2222222222222222,
              "#7201a8"
             ],
             [
              0.3333333333333333,
              "#9c179e"
             ],
             [
              0.4444444444444444,
              "#bd3786"
             ],
             [
              0.5555555555555556,
              "#d8576b"
             ],
             [
              0.6666666666666666,
              "#ed7953"
             ],
             [
              0.7777777777777778,
              "#fb9f3a"
             ],
             [
              0.8888888888888888,
              "#fdca26"
             ],
             [
              1,
              "#f0f921"
             ]
            ],
            "type": "heatmap"
           }
          ],
          "heatmapgl": [
           {
            "colorbar": {
             "outlinewidth": 0,
             "ticks": ""
            },
            "colorscale": [
             [
              0,
              "#0d0887"
             ],
             [
              0.1111111111111111,
              "#46039f"
             ],
             [
              0.2222222222222222,
              "#7201a8"
             ],
             [
              0.3333333333333333,
              "#9c179e"
             ],
             [
              0.4444444444444444,
              "#bd3786"
             ],
             [
              0.5555555555555556,
              "#d8576b"
             ],
             [
              0.6666666666666666,
              "#ed7953"
             ],
             [
              0.7777777777777778,
              "#fb9f3a"
             ],
             [
              0.8888888888888888,
              "#fdca26"
             ],
             [
              1,
              "#f0f921"
             ]
            ],
            "type": "heatmapgl"
           }
          ],
          "histogram": [
           {
            "marker": {
             "pattern": {
              "fillmode": "overlay",
              "size": 10,
              "solidity": 0.2
             }
            },
            "type": "histogram"
           }
          ],
          "histogram2d": [
           {
            "colorbar": {
             "outlinewidth": 0,
             "ticks": ""
            },
            "colorscale": [
             [
              0,
              "#0d0887"
             ],
             [
              0.1111111111111111,
              "#46039f"
             ],
             [
              0.2222222222222222,
              "#7201a8"
             ],
             [
              0.3333333333333333,
              "#9c179e"
             ],
             [
              0.4444444444444444,
              "#bd3786"
             ],
             [
              0.5555555555555556,
              "#d8576b"
             ],
             [
              0.6666666666666666,
              "#ed7953"
             ],
             [
              0.7777777777777778,
              "#fb9f3a"
             ],
             [
              0.8888888888888888,
              "#fdca26"
             ],
             [
              1,
              "#f0f921"
             ]
            ],
            "type": "histogram2d"
           }
          ],
          "histogram2dcontour": [
           {
            "colorbar": {
             "outlinewidth": 0,
             "ticks": ""
            },
            "colorscale": [
             [
              0,
              "#0d0887"
             ],
             [
              0.1111111111111111,
              "#46039f"
             ],
             [
              0.2222222222222222,
              "#7201a8"
             ],
             [
              0.3333333333333333,
              "#9c179e"
             ],
             [
              0.4444444444444444,
              "#bd3786"
             ],
             [
              0.5555555555555556,
              "#d8576b"
             ],
             [
              0.6666666666666666,
              "#ed7953"
             ],
             [
              0.7777777777777778,
              "#fb9f3a"
             ],
             [
              0.8888888888888888,
              "#fdca26"
             ],
             [
              1,
              "#f0f921"
             ]
            ],
            "type": "histogram2dcontour"
           }
          ],
          "mesh3d": [
           {
            "colorbar": {
             "outlinewidth": 0,
             "ticks": ""
            },
            "type": "mesh3d"
           }
          ],
          "parcoords": [
           {
            "line": {
             "colorbar": {
              "outlinewidth": 0,
              "ticks": ""
             }
            },
            "type": "parcoords"
           }
          ],
          "pie": [
           {
            "automargin": true,
            "type": "pie"
           }
          ],
          "scatter": [
           {
            "fillpattern": {
             "fillmode": "overlay",
             "size": 10,
             "solidity": 0.2
            },
            "type": "scatter"
           }
          ],
          "scatter3d": [
           {
            "line": {
             "colorbar": {
              "outlinewidth": 0,
              "ticks": ""
             }
            },
            "marker": {
             "colorbar": {
              "outlinewidth": 0,
              "ticks": ""
             }
            },
            "type": "scatter3d"
           }
          ],
          "scattercarpet": [
           {
            "marker": {
             "colorbar": {
              "outlinewidth": 0,
              "ticks": ""
             }
            },
            "type": "scattercarpet"
           }
          ],
          "scattergeo": [
           {
            "marker": {
             "colorbar": {
              "outlinewidth": 0,
              "ticks": ""
             }
            },
            "type": "scattergeo"
           }
          ],
          "scattergl": [
           {
            "marker": {
             "colorbar": {
              "outlinewidth": 0,
              "ticks": ""
             }
            },
            "type": "scattergl"
           }
          ],
          "scattermapbox": [
           {
            "marker": {
             "colorbar": {
              "outlinewidth": 0,
              "ticks": ""
             }
            },
            "type": "scattermapbox"
           }
          ],
          "scatterpolar": [
           {
            "marker": {
             "colorbar": {
              "outlinewidth": 0,
              "ticks": ""
             }
            },
            "type": "scatterpolar"
           }
          ],
          "scatterpolargl": [
           {
            "marker": {
             "colorbar": {
              "outlinewidth": 0,
              "ticks": ""
             }
            },
            "type": "scatterpolargl"
           }
          ],
          "scatterternary": [
           {
            "marker": {
             "colorbar": {
              "outlinewidth": 0,
              "ticks": ""
             }
            },
            "type": "scatterternary"
           }
          ],
          "surface": [
           {
            "colorbar": {
             "outlinewidth": 0,
             "ticks": ""
            },
            "colorscale": [
             [
              0,
              "#0d0887"
             ],
             [
              0.1111111111111111,
              "#46039f"
             ],
             [
              0.2222222222222222,
              "#7201a8"
             ],
             [
              0.3333333333333333,
              "#9c179e"
             ],
             [
              0.4444444444444444,
              "#bd3786"
             ],
             [
              0.5555555555555556,
              "#d8576b"
             ],
             [
              0.6666666666666666,
              "#ed7953"
             ],
             [
              0.7777777777777778,
              "#fb9f3a"
             ],
             [
              0.8888888888888888,
              "#fdca26"
             ],
             [
              1,
              "#f0f921"
             ]
            ],
            "type": "surface"
           }
          ],
          "table": [
           {
            "cells": {
             "fill": {
              "color": "#EBF0F8"
             },
             "line": {
              "color": "white"
             }
            },
            "header": {
             "fill": {
              "color": "#C8D4E3"
             },
             "line": {
              "color": "white"
             }
            },
            "type": "table"
           }
          ]
         },
         "layout": {
          "annotationdefaults": {
           "arrowcolor": "#2a3f5f",
           "arrowhead": 0,
           "arrowwidth": 1
          },
          "autotypenumbers": "strict",
          "coloraxis": {
           "colorbar": {
            "outlinewidth": 0,
            "ticks": ""
           }
          },
          "colorscale": {
           "diverging": [
            [
             0,
             "#8e0152"
            ],
            [
             0.1,
             "#c51b7d"
            ],
            [
             0.2,
             "#de77ae"
            ],
            [
             0.3,
             "#f1b6da"
            ],
            [
             0.4,
             "#fde0ef"
            ],
            [
             0.5,
             "#f7f7f7"
            ],
            [
             0.6,
             "#e6f5d0"
            ],
            [
             0.7,
             "#b8e186"
            ],
            [
             0.8,
             "#7fbc41"
            ],
            [
             0.9,
             "#4d9221"
            ],
            [
             1,
             "#276419"
            ]
           ],
           "sequential": [
            [
             0,
             "#0d0887"
            ],
            [
             0.1111111111111111,
             "#46039f"
            ],
            [
             0.2222222222222222,
             "#7201a8"
            ],
            [
             0.3333333333333333,
             "#9c179e"
            ],
            [
             0.4444444444444444,
             "#bd3786"
            ],
            [
             0.5555555555555556,
             "#d8576b"
            ],
            [
             0.6666666666666666,
             "#ed7953"
            ],
            [
             0.7777777777777778,
             "#fb9f3a"
            ],
            [
             0.8888888888888888,
             "#fdca26"
            ],
            [
             1,
             "#f0f921"
            ]
           ],
           "sequentialminus": [
            [
             0,
             "#0d0887"
            ],
            [
             0.1111111111111111,
             "#46039f"
            ],
            [
             0.2222222222222222,
             "#7201a8"
            ],
            [
             0.3333333333333333,
             "#9c179e"
            ],
            [
             0.4444444444444444,
             "#bd3786"
            ],
            [
             0.5555555555555556,
             "#d8576b"
            ],
            [
             0.6666666666666666,
             "#ed7953"
            ],
            [
             0.7777777777777778,
             "#fb9f3a"
            ],
            [
             0.8888888888888888,
             "#fdca26"
            ],
            [
             1,
             "#f0f921"
            ]
           ]
          },
          "colorway": [
           "#636efa",
           "#EF553B",
           "#00cc96",
           "#ab63fa",
           "#FFA15A",
           "#19d3f3",
           "#FF6692",
           "#B6E880",
           "#FF97FF",
           "#FECB52"
          ],
          "font": {
           "color": "#2a3f5f"
          },
          "geo": {
           "bgcolor": "white",
           "lakecolor": "white",
           "landcolor": "#E5ECF6",
           "showlakes": true,
           "showland": true,
           "subunitcolor": "white"
          },
          "hoverlabel": {
           "align": "left"
          },
          "hovermode": "closest",
          "mapbox": {
           "style": "light"
          },
          "paper_bgcolor": "white",
          "plot_bgcolor": "#E5ECF6",
          "polar": {
           "angularaxis": {
            "gridcolor": "white",
            "linecolor": "white",
            "ticks": ""
           },
           "bgcolor": "#E5ECF6",
           "radialaxis": {
            "gridcolor": "white",
            "linecolor": "white",
            "ticks": ""
           }
          },
          "scene": {
           "xaxis": {
            "backgroundcolor": "#E5ECF6",
            "gridcolor": "white",
            "gridwidth": 2,
            "linecolor": "white",
            "showbackground": true,
            "ticks": "",
            "zerolinecolor": "white"
           },
           "yaxis": {
            "backgroundcolor": "#E5ECF6",
            "gridcolor": "white",
            "gridwidth": 2,
            "linecolor": "white",
            "showbackground": true,
            "ticks": "",
            "zerolinecolor": "white"
           },
           "zaxis": {
            "backgroundcolor": "#E5ECF6",
            "gridcolor": "white",
            "gridwidth": 2,
            "linecolor": "white",
            "showbackground": true,
            "ticks": "",
            "zerolinecolor": "white"
           }
          },
          "shapedefaults": {
           "line": {
            "color": "#2a3f5f"
           }
          },
          "ternary": {
           "aaxis": {
            "gridcolor": "white",
            "linecolor": "white",
            "ticks": ""
           },
           "baxis": {
            "gridcolor": "white",
            "linecolor": "white",
            "ticks": ""
           },
           "bgcolor": "#E5ECF6",
           "caxis": {
            "gridcolor": "white",
            "linecolor": "white",
            "ticks": ""
           }
          },
          "title": {
           "x": 0.05
          },
          "xaxis": {
           "automargin": true,
           "gridcolor": "white",
           "linecolor": "white",
           "ticks": "",
           "title": {
            "standoff": 15
           },
           "zerolinecolor": "white",
           "zerolinewidth": 2
          },
          "yaxis": {
           "automargin": true,
           "gridcolor": "white",
           "linecolor": "white",
           "ticks": "",
           "title": {
            "standoff": 15
           },
           "zerolinecolor": "white",
           "zerolinewidth": 2
          }
         }
        }
       }
      }
     },
     "metadata": {},
     "output_type": "display_data"
    },
    {
     "data": {
      "application/vnd.plotly.v1+json": {
       "config": {
        "plotlyServerURL": "https://plot.ly"
       },
       "data": [
        {
         "cells": {
          "align": [
           "left",
           "left",
           "left",
           "left",
           "left"
          ],
          "fill": {
           "color": "lavender"
          },
          "values": [
           [
            "Male",
            "Female"
           ],
           [
            28,
            21
           ]
          ]
         },
         "header": {
          "align": [
           "left",
           "left",
           "left",
           "left",
           "left"
          ],
          "fill": {
           "color": "paleturquoise"
          },
          "values": [
           "Gender",
           "Count"
          ]
         },
         "type": "table"
        }
       ],
       "layout": {
        "template": {
         "data": {
          "bar": [
           {
            "error_x": {
             "color": "#2a3f5f"
            },
            "error_y": {
             "color": "#2a3f5f"
            },
            "marker": {
             "line": {
              "color": "#E5ECF6",
              "width": 0.5
             },
             "pattern": {
              "fillmode": "overlay",
              "size": 10,
              "solidity": 0.2
             }
            },
            "type": "bar"
           }
          ],
          "barpolar": [
           {
            "marker": {
             "line": {
              "color": "#E5ECF6",
              "width": 0.5
             },
             "pattern": {
              "fillmode": "overlay",
              "size": 10,
              "solidity": 0.2
             }
            },
            "type": "barpolar"
           }
          ],
          "carpet": [
           {
            "aaxis": {
             "endlinecolor": "#2a3f5f",
             "gridcolor": "white",
             "linecolor": "white",
             "minorgridcolor": "white",
             "startlinecolor": "#2a3f5f"
            },
            "baxis": {
             "endlinecolor": "#2a3f5f",
             "gridcolor": "white",
             "linecolor": "white",
             "minorgridcolor": "white",
             "startlinecolor": "#2a3f5f"
            },
            "type": "carpet"
           }
          ],
          "choropleth": [
           {
            "colorbar": {
             "outlinewidth": 0,
             "ticks": ""
            },
            "type": "choropleth"
           }
          ],
          "contour": [
           {
            "colorbar": {
             "outlinewidth": 0,
             "ticks": ""
            },
            "colorscale": [
             [
              0,
              "#0d0887"
             ],
             [
              0.1111111111111111,
              "#46039f"
             ],
             [
              0.2222222222222222,
              "#7201a8"
             ],
             [
              0.3333333333333333,
              "#9c179e"
             ],
             [
              0.4444444444444444,
              "#bd3786"
             ],
             [
              0.5555555555555556,
              "#d8576b"
             ],
             [
              0.6666666666666666,
              "#ed7953"
             ],
             [
              0.7777777777777778,
              "#fb9f3a"
             ],
             [
              0.8888888888888888,
              "#fdca26"
             ],
             [
              1,
              "#f0f921"
             ]
            ],
            "type": "contour"
           }
          ],
          "contourcarpet": [
           {
            "colorbar": {
             "outlinewidth": 0,
             "ticks": ""
            },
            "type": "contourcarpet"
           }
          ],
          "heatmap": [
           {
            "colorbar": {
             "outlinewidth": 0,
             "ticks": ""
            },
            "colorscale": [
             [
              0,
              "#0d0887"
             ],
             [
              0.1111111111111111,
              "#46039f"
             ],
             [
              0.2222222222222222,
              "#7201a8"
             ],
             [
              0.3333333333333333,
              "#9c179e"
             ],
             [
              0.4444444444444444,
              "#bd3786"
             ],
             [
              0.5555555555555556,
              "#d8576b"
             ],
             [
              0.6666666666666666,
              "#ed7953"
             ],
             [
              0.7777777777777778,
              "#fb9f3a"
             ],
             [
              0.8888888888888888,
              "#fdca26"
             ],
             [
              1,
              "#f0f921"
             ]
            ],
            "type": "heatmap"
           }
          ],
          "heatmapgl": [
           {
            "colorbar": {
             "outlinewidth": 0,
             "ticks": ""
            },
            "colorscale": [
             [
              0,
              "#0d0887"
             ],
             [
              0.1111111111111111,
              "#46039f"
             ],
             [
              0.2222222222222222,
              "#7201a8"
             ],
             [
              0.3333333333333333,
              "#9c179e"
             ],
             [
              0.4444444444444444,
              "#bd3786"
             ],
             [
              0.5555555555555556,
              "#d8576b"
             ],
             [
              0.6666666666666666,
              "#ed7953"
             ],
             [
              0.7777777777777778,
              "#fb9f3a"
             ],
             [
              0.8888888888888888,
              "#fdca26"
             ],
             [
              1,
              "#f0f921"
             ]
            ],
            "type": "heatmapgl"
           }
          ],
          "histogram": [
           {
            "marker": {
             "pattern": {
              "fillmode": "overlay",
              "size": 10,
              "solidity": 0.2
             }
            },
            "type": "histogram"
           }
          ],
          "histogram2d": [
           {
            "colorbar": {
             "outlinewidth": 0,
             "ticks": ""
            },
            "colorscale": [
             [
              0,
              "#0d0887"
             ],
             [
              0.1111111111111111,
              "#46039f"
             ],
             [
              0.2222222222222222,
              "#7201a8"
             ],
             [
              0.3333333333333333,
              "#9c179e"
             ],
             [
              0.4444444444444444,
              "#bd3786"
             ],
             [
              0.5555555555555556,
              "#d8576b"
             ],
             [
              0.6666666666666666,
              "#ed7953"
             ],
             [
              0.7777777777777778,
              "#fb9f3a"
             ],
             [
              0.8888888888888888,
              "#fdca26"
             ],
             [
              1,
              "#f0f921"
             ]
            ],
            "type": "histogram2d"
           }
          ],
          "histogram2dcontour": [
           {
            "colorbar": {
             "outlinewidth": 0,
             "ticks": ""
            },
            "colorscale": [
             [
              0,
              "#0d0887"
             ],
             [
              0.1111111111111111,
              "#46039f"
             ],
             [
              0.2222222222222222,
              "#7201a8"
             ],
             [
              0.3333333333333333,
              "#9c179e"
             ],
             [
              0.4444444444444444,
              "#bd3786"
             ],
             [
              0.5555555555555556,
              "#d8576b"
             ],
             [
              0.6666666666666666,
              "#ed7953"
             ],
             [
              0.7777777777777778,
              "#fb9f3a"
             ],
             [
              0.8888888888888888,
              "#fdca26"
             ],
             [
              1,
              "#f0f921"
             ]
            ],
            "type": "histogram2dcontour"
           }
          ],
          "mesh3d": [
           {
            "colorbar": {
             "outlinewidth": 0,
             "ticks": ""
            },
            "type": "mesh3d"
           }
          ],
          "parcoords": [
           {
            "line": {
             "colorbar": {
              "outlinewidth": 0,
              "ticks": ""
             }
            },
            "type": "parcoords"
           }
          ],
          "pie": [
           {
            "automargin": true,
            "type": "pie"
           }
          ],
          "scatter": [
           {
            "fillpattern": {
             "fillmode": "overlay",
             "size": 10,
             "solidity": 0.2
            },
            "type": "scatter"
           }
          ],
          "scatter3d": [
           {
            "line": {
             "colorbar": {
              "outlinewidth": 0,
              "ticks": ""
             }
            },
            "marker": {
             "colorbar": {
              "outlinewidth": 0,
              "ticks": ""
             }
            },
            "type": "scatter3d"
           }
          ],
          "scattercarpet": [
           {
            "marker": {
             "colorbar": {
              "outlinewidth": 0,
              "ticks": ""
             }
            },
            "type": "scattercarpet"
           }
          ],
          "scattergeo": [
           {
            "marker": {
             "colorbar": {
              "outlinewidth": 0,
              "ticks": ""
             }
            },
            "type": "scattergeo"
           }
          ],
          "scattergl": [
           {
            "marker": {
             "colorbar": {
              "outlinewidth": 0,
              "ticks": ""
             }
            },
            "type": "scattergl"
           }
          ],
          "scattermapbox": [
           {
            "marker": {
             "colorbar": {
              "outlinewidth": 0,
              "ticks": ""
             }
            },
            "type": "scattermapbox"
           }
          ],
          "scatterpolar": [
           {
            "marker": {
             "colorbar": {
              "outlinewidth": 0,
              "ticks": ""
             }
            },
            "type": "scatterpolar"
           }
          ],
          "scatterpolargl": [
           {
            "marker": {
             "colorbar": {
              "outlinewidth": 0,
              "ticks": ""
             }
            },
            "type": "scatterpolargl"
           }
          ],
          "scatterternary": [
           {
            "marker": {
             "colorbar": {
              "outlinewidth": 0,
              "ticks": ""
             }
            },
            "type": "scatterternary"
           }
          ],
          "surface": [
           {
            "colorbar": {
             "outlinewidth": 0,
             "ticks": ""
            },
            "colorscale": [
             [
              0,
              "#0d0887"
             ],
             [
              0.1111111111111111,
              "#46039f"
             ],
             [
              0.2222222222222222,
              "#7201a8"
             ],
             [
              0.3333333333333333,
              "#9c179e"
             ],
             [
              0.4444444444444444,
              "#bd3786"
             ],
             [
              0.5555555555555556,
              "#d8576b"
             ],
             [
              0.6666666666666666,
              "#ed7953"
             ],
             [
              0.7777777777777778,
              "#fb9f3a"
             ],
             [
              0.8888888888888888,
              "#fdca26"
             ],
             [
              1,
              "#f0f921"
             ]
            ],
            "type": "surface"
           }
          ],
          "table": [
           {
            "cells": {
             "fill": {
              "color": "#EBF0F8"
             },
             "line": {
              "color": "white"
             }
            },
            "header": {
             "fill": {
              "color": "#C8D4E3"
             },
             "line": {
              "color": "white"
             }
            },
            "type": "table"
           }
          ]
         },
         "layout": {
          "annotationdefaults": {
           "arrowcolor": "#2a3f5f",
           "arrowhead": 0,
           "arrowwidth": 1
          },
          "autotypenumbers": "strict",
          "coloraxis": {
           "colorbar": {
            "outlinewidth": 0,
            "ticks": ""
           }
          },
          "colorscale": {
           "diverging": [
            [
             0,
             "#8e0152"
            ],
            [
             0.1,
             "#c51b7d"
            ],
            [
             0.2,
             "#de77ae"
            ],
            [
             0.3,
             "#f1b6da"
            ],
            [
             0.4,
             "#fde0ef"
            ],
            [
             0.5,
             "#f7f7f7"
            ],
            [
             0.6,
             "#e6f5d0"
            ],
            [
             0.7,
             "#b8e186"
            ],
            [
             0.8,
             "#7fbc41"
            ],
            [
             0.9,
             "#4d9221"
            ],
            [
             1,
             "#276419"
            ]
           ],
           "sequential": [
            [
             0,
             "#0d0887"
            ],
            [
             0.1111111111111111,
             "#46039f"
            ],
            [
             0.2222222222222222,
             "#7201a8"
            ],
            [
             0.3333333333333333,
             "#9c179e"
            ],
            [
             0.4444444444444444,
             "#bd3786"
            ],
            [
             0.5555555555555556,
             "#d8576b"
            ],
            [
             0.6666666666666666,
             "#ed7953"
            ],
            [
             0.7777777777777778,
             "#fb9f3a"
            ],
            [
             0.8888888888888888,
             "#fdca26"
            ],
            [
             1,
             "#f0f921"
            ]
           ],
           "sequentialminus": [
            [
             0,
             "#0d0887"
            ],
            [
             0.1111111111111111,
             "#46039f"
            ],
            [
             0.2222222222222222,
             "#7201a8"
            ],
            [
             0.3333333333333333,
             "#9c179e"
            ],
            [
             0.4444444444444444,
             "#bd3786"
            ],
            [
             0.5555555555555556,
             "#d8576b"
            ],
            [
             0.6666666666666666,
             "#ed7953"
            ],
            [
             0.7777777777777778,
             "#fb9f3a"
            ],
            [
             0.8888888888888888,
             "#fdca26"
            ],
            [
             1,
             "#f0f921"
            ]
           ]
          },
          "colorway": [
           "#636efa",
           "#EF553B",
           "#00cc96",
           "#ab63fa",
           "#FFA15A",
           "#19d3f3",
           "#FF6692",
           "#B6E880",
           "#FF97FF",
           "#FECB52"
          ],
          "font": {
           "color": "#2a3f5f"
          },
          "geo": {
           "bgcolor": "white",
           "lakecolor": "white",
           "landcolor": "#E5ECF6",
           "showlakes": true,
           "showland": true,
           "subunitcolor": "white"
          },
          "hoverlabel": {
           "align": "left"
          },
          "hovermode": "closest",
          "mapbox": {
           "style": "light"
          },
          "paper_bgcolor": "white",
          "plot_bgcolor": "#E5ECF6",
          "polar": {
           "angularaxis": {
            "gridcolor": "white",
            "linecolor": "white",
            "ticks": ""
           },
           "bgcolor": "#E5ECF6",
           "radialaxis": {
            "gridcolor": "white",
            "linecolor": "white",
            "ticks": ""
           }
          },
          "scene": {
           "xaxis": {
            "backgroundcolor": "#E5ECF6",
            "gridcolor": "white",
            "gridwidth": 2,
            "linecolor": "white",
            "showbackground": true,
            "ticks": "",
            "zerolinecolor": "white"
           },
           "yaxis": {
            "backgroundcolor": "#E5ECF6",
            "gridcolor": "white",
            "gridwidth": 2,
            "linecolor": "white",
            "showbackground": true,
            "ticks": "",
            "zerolinecolor": "white"
           },
           "zaxis": {
            "backgroundcolor": "#E5ECF6",
            "gridcolor": "white",
            "gridwidth": 2,
            "linecolor": "white",
            "showbackground": true,
            "ticks": "",
            "zerolinecolor": "white"
           }
          },
          "shapedefaults": {
           "line": {
            "color": "#2a3f5f"
           }
          },
          "ternary": {
           "aaxis": {
            "gridcolor": "white",
            "linecolor": "white",
            "ticks": ""
           },
           "baxis": {
            "gridcolor": "white",
            "linecolor": "white",
            "ticks": ""
           },
           "bgcolor": "#E5ECF6",
           "caxis": {
            "gridcolor": "white",
            "linecolor": "white",
            "ticks": ""
           }
          },
          "title": {
           "x": 0.05
          },
          "xaxis": {
           "automargin": true,
           "gridcolor": "white",
           "linecolor": "white",
           "ticks": "",
           "title": {
            "standoff": 15
           },
           "zerolinecolor": "white",
           "zerolinewidth": 2
          },
          "yaxis": {
           "automargin": true,
           "gridcolor": "white",
           "linecolor": "white",
           "ticks": "",
           "title": {
            "standoff": 15
           },
           "zerolinecolor": "white",
           "zerolinewidth": 2
          }
         }
        },
        "width": 400
       }
      }
     },
     "metadata": {},
     "output_type": "display_data"
    }
   ],
   "source": [
    "# Gender count \n",
    "gender_counts = df_age[\"What is your gender\"].value_counts().reset_index()\n",
    "gender_counts.columns = [\"Gender\", \"Count\"]\n",
    "\n",
    "# Plot the pie chart using Plotly with warmer colors\n",
    "fig = px.pie(gender_counts, values=\"Count\", names=\"Gender\", \n",
    "             #title=\"Distribution of Participants by Gender\",\n",
    "             color_discrete_sequence=px.colors.qualitative.Pastel)\n",
    "\n",
    "fig.show()\n",
    "\n",
    "\n",
    "# Create a table trace\n",
    "table_trace = go.Table(\n",
    "    header=dict(values=[\"Gender\", \"Count\"],\n",
    "                fill=dict(color='paleturquoise'),\n",
    "                align=['left'] * 5),\n",
    "    cells=dict(values=[gender_counts['Gender'], gender_counts['Count']],\n",
    "               fill=dict(color='lavender'),\n",
    "               align=['left'] * 5))\n",
    "\n",
    "# Create figure\n",
    "fig = go.Figure(data=[table_trace])\n",
    "\n",
    "# Update layout\n",
    "fig.update_layout(\n",
    "    width=400,\n",
    ")\n",
    "fig.show()\n",
    "\n"
   ]
  }
 ],
 "metadata": {
  "kernelspec": {
   "display_name": "Python 3.10 (tensorflow)",
   "language": "python",
   "name": "tensorflow"
  },
  "language_info": {
   "codemirror_mode": {
    "name": "ipython",
    "version": 3
   },
   "file_extension": ".py",
   "mimetype": "text/x-python",
   "name": "python",
   "nbconvert_exporter": "python",
   "pygments_lexer": "ipython3",
   "version": "3.10.10"
  }
 },
 "nbformat": 4,
 "nbformat_minor": 2
}
